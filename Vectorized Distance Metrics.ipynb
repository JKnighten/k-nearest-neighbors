{
 "cells": [
  {
   "cell_type": "markdown",
   "metadata": {},
   "source": [
    "# Vectorized Distance Metrics\n"
   ]
  },
  {
   "cell_type": "code",
   "execution_count": 1,
   "metadata": {
    "collapsed": false
   },
   "outputs": [
    {
     "name": "stdout",
     "output_type": "stream",
     "text": [
      "Train Data: \n",
      "[[ 1.  2.  3.]\n",
      " [ 5.  6.  7.]\n",
      " [ 8.  9. 10.]]\n",
      "Test Data: \n",
      "[[ 5. 10. 15.]\n",
      " [10. 20. 30.]]\n"
     ]
    }
   ],
   "source": [
    "# Create Some Basic Testing Data\n",
    "import numpy as np\n",
    "\n",
    "train_data = np.array([[1., 2., 3.], [5., 6., 7.], [8., 9., 10.]])\n",
    "test_data = np.array([[5., 10., 15.], [10., 20., 30.]])\n",
    "\n",
    "print(\"Train Data: \\n\" + str(train_data))\n",
    "print(\"Test Data: \\n\" + str(test_data))"
   ]
  },
  {
   "cell_type": "markdown",
   "metadata": {},
   "source": [
    "## Euclidean"
   ]
  },
  {
   "cell_type": "code",
   "execution_count": 2,
   "metadata": {
    "collapsed": false
   },
   "outputs": [
    {
     "name": "stdout",
     "output_type": "stream",
     "text": [
      "Difference Of Vectors: \n",
      "[[[ -4.  -8. -12.]\n",
      "  [  0.  -4.  -8.]\n",
      "  [  3.  -1.  -5.]]\n",
      "\n",
      " [[ -9. -18. -27.]\n",
      "  [ -5. -14. -23.]\n",
      "  [ -2. -11. -20.]]]\n"
     ]
    }
   ],
   "source": [
    "# Find Difference Between Train and Test Vectors\n",
    "diff = train_data-test_data[:, np.newaxis]\n",
    "print(\"Difference Of Vectors: \\n\" + str(diff))"
   ]
  },
  {
   "cell_type": "code",
   "execution_count": 3,
   "metadata": {
    "collapsed": false
   },
   "outputs": [
    {
     "name": "stdout",
     "output_type": "stream",
     "text": [
      "Square Of Differences: \n",
      "[[[ 16.  64. 144.]\n",
      "  [  0.  16.  64.]\n",
      "  [  9.   1.  25.]]\n",
      "\n",
      " [[ 81. 324. 729.]\n",
      "  [ 25. 196. 529.]\n",
      "  [  4. 121. 400.]]]\n"
     ]
    }
   ],
   "source": [
    "squares = np.square(diff)\n",
    "print(\"Square Of Differences: \\n\" + str(squares))"
   ]
  },
  {
   "cell_type": "code",
   "execution_count": 4,
   "metadata": {
    "collapsed": false
   },
   "outputs": [
    {
     "name": "stdout",
     "output_type": "stream",
     "text": [
      "Sum Of Squares: \n",
      "[[ 25088.   4352.    707.]\n",
      " [642978. 318882. 174657.]]\n"
     ]
    }
   ],
   "source": [
    "sum_of_squares = np.sum(np.square(squares), axis=2)\n",
    "print(\"Sum Of Squares: \\n\" + str(sum_of_squares))"
   ]
  },
  {
   "cell_type": "code",
   "execution_count": 5,
   "metadata": {
    "collapsed": false
   },
   "outputs": [
    {
     "name": "stdout",
     "output_type": "stream",
     "text": [
      "Distance Matrix:\n",
      "[[14.96662955  8.94427191  5.91607978]\n",
      " [33.67491648 27.38612788 22.91287847]]\n"
     ]
    }
   ],
   "source": [
    "distance_matrix = np.sqrt(np.sum(np.square(train_data-test_data[:, np.newaxis]), axis=2))\n",
    "print(\"Distance Matrix:\\n\" + str(distance_matrix))"
   ]
  },
  {
   "cell_type": "code",
   "execution_count": 6,
   "metadata": {
    "collapsed": false
   },
   "outputs": [
    {
     "name": "stdout",
     "output_type": "stream",
     "text": [
      "Vectorized Result: \n",
      "[[14.96662955  8.94427191  5.91607978]\n",
      " [33.67491648 27.38612788 22.91287847]]\n",
      "Non-Vectorized Result: \n",
      "[[14.96662955  8.94427191  5.91607978]\n",
      " [33.67491648 27.38612788 22.91287847]]\n",
      "Vectorized Timing:\n",
      "CPU times: user 1.54 ms, sys: 875 µs, total: 2.41 ms\n",
      "Wall time: 1.98 ms\n",
      "Non-Vectorized Timing:\n",
      "CPU times: user 47.3 ms, sys: 1.2 ms, total: 48.5 ms\n",
      "Wall time: 50.6 ms\n"
     ]
    }
   ],
   "source": [
    "from knn.distance_metrics import euclidean\n",
    "\n",
    "rand_train = np.random.randn(100,10)\n",
    "rand_test = np.random.randn(100,10)\n",
    "\n",
    "def euclidean_vect(train_data, test_data):\n",
    "    return np.sqrt(np.sum(np.square(train_data-test_data[:, np.newaxis]), axis=2))\n",
    "\n",
    "def euclidean_no_vect(train_data, test_data):\n",
    "    distance_matrix = np.zeros((test_data.shape[0], train_data.shape[0]))\n",
    "    for col, train_vect in enumerate(train_data):\n",
    "        for row, test_vect in enumerate(test_data):\n",
    "            distance_matrix[row, col] = euclidean(train_vect, test_vect)\n",
    "    return distance_matrix\n",
    "\n",
    "\n",
    "print(\"Vectorized Result: \\n\" + str(euclidean_vect(train_data, test_data)))\n",
    "print(\"Non-Vectorized Result: \\n\" + str(euclidean_no_vect(train_data, test_data)))\n",
    "\n",
    "print(\"Vectorized Timing:\")\n",
    "%time result = euclidean_vect(rand_train, rand_test)\n",
    "print(\"Non-Vectorized Timing:\")\n",
    "%time result = euclidean_no_vect(rand_train, rand_test)"
   ]
  },
  {
   "cell_type": "markdown",
   "metadata": {},
   "source": [
    "This definitely works, but relies heavily on broadcasting. We can expand the euclidean distance formula and avoid a majority of the broadcasting: sum((x-y)^2) = sum(x^2)+sum(y^2)-2sum(xy)."
   ]
  },
  {
   "cell_type": "code",
   "execution_count": 7,
   "metadata": {
    "collapsed": false
   },
   "outputs": [
    {
     "name": "stdout",
     "output_type": "stream",
     "text": [
      "sum(x^2) Term:\n",
      "[ 350. 1400.]\n",
      "sum(y^2) Term:\n",
      "[ 14. 110. 245.]\n"
     ]
    }
   ],
   "source": [
    "# X^2 Term\n",
    "x_squared_term = np.sum(np.square(test_data), axis=1)\n",
    "print(\"sum(x^2) Term:\\n\" + str(x_squared_term))\n",
    "\n",
    "# Y^2 Term\n",
    "y_squared_term = np.sum(np.square(train_data), axis=1)\n",
    "print(\"sum(y^2) Term:\\n\" + str(y_squared_term))"
   ]
  },
  {
   "cell_type": "code",
   "execution_count": 8,
   "metadata": {
    "collapsed": false
   },
   "outputs": [
    {
     "name": "stdout",
     "output_type": "stream",
     "text": [
      "-2sum(xy) Term:\n",
      "[[ -140.  -380.  -560.]\n",
      " [ -280.  -760. -1120.]]\n"
     ]
    }
   ],
   "source": [
    "#-2 * XY Term\n",
    "x_by_y = -2*np.dot(test_data, train_data.T)\n",
    "print(\"-2sum(xy) Term:\\n\" + str(x_by_y))"
   ]
  },
  {
   "cell_type": "code",
   "execution_count": 9,
   "metadata": {
    "collapsed": false
   },
   "outputs": [
    {
     "name": "stdout",
     "output_type": "stream",
     "text": [
      "sum(x^2)+sum(y^2) Term:\n",
      "[[ -140.  -380.  -560.]\n",
      " [ -280.  -760. -1120.]]\n"
     ]
    }
   ],
   "source": [
    "# Only Broad Casting Needed\n",
    "x_plus_y = x_squared_term[:, np.newaxis] + y_squared_term\n",
    "print(\"sum(x^2)+sum(y^2) Term:\\n\" + str(x_by_y))"
   ]
  },
  {
   "cell_type": "code",
   "execution_count": 10,
   "metadata": {
    "collapsed": false
   },
   "outputs": [
    {
     "name": "stdout",
     "output_type": "stream",
     "text": [
      "Distance:\n",
      "[[14.96662955  8.94427191  5.91607978]\n",
      " [33.67491648 27.38612788 22.91287847]]\n"
     ]
    }
   ],
   "source": [
    "distance = np.sqrt(x_squared_term[:, np.newaxis] + y_squared_term + x_by_y)\n",
    "print(\"Distance:\\n\" + str(distance))"
   ]
  },
  {
   "cell_type": "code",
   "execution_count": 11,
   "metadata": {
    "collapsed": false
   },
   "outputs": [
    {
     "name": "stdout",
     "output_type": "stream",
     "text": [
      "Vectorized Result: \n",
      "[[14.96662955  8.94427191  5.91607978]\n",
      " [33.67491648 27.38612788 22.91287847]]\n",
      "Vectorized Result Less Broadcasting: \n",
      "[[14.96662955  8.94427191  5.91607978]\n",
      " [33.67491648 27.38612788 22.91287847]]\n",
      "Non-Vectorized Result: \n",
      "[[14.96662955  8.94427191  5.91607978]\n",
      " [33.67491648 27.38612788 22.91287847]]\n",
      "Vectorized Timing:\n",
      "CPU times: user 1.58 ms, sys: 392 µs, total: 1.97 ms\n",
      "Wall time: 1.49 ms\n",
      "Vectorized Timing Less Broadcasting:\n",
      "CPU times: user 739 µs, sys: 65 µs, total: 804 µs\n",
      "Wall time: 666 µs\n",
      "Non-Vectorized Timing:\n",
      "CPU times: user 39.1 ms, sys: 213 µs, total: 39.3 ms\n",
      "Wall time: 39.5 ms\n"
     ]
    }
   ],
   "source": [
    "def euclidean_vect_less_broad(train_data, test_data):\n",
    "    return np.sqrt(np.sum(np.square(test_data), axis=1)[:, np.newaxis] + np.sum(np.square(train_data), axis=1) - 2*np.dot(test_data, train_data.T))\n",
    "\n",
    "\n",
    "\n",
    "print(\"Vectorized Result: \\n\" + str(euclidean_vect(train_data, test_data)))\n",
    "print(\"Vectorized Result Less Broadcasting: \\n\" + str(euclidean_vect_less_broad(train_data, test_data)))\n",
    "print(\"Non-Vectorized Result: \\n\" + str(euclidean_no_vect(train_data, test_data)))\n",
    "\n",
    "print(\"Vectorized Timing:\")\n",
    "%time result = euclidean_vect(rand_train, rand_test)\n",
    "print(\"Vectorized Timing Less Broadcasting:\")\n",
    "%time result = euclidean_vect(rand_train, rand_test)\n",
    "print(\"Non-Vectorized Timing:\")\n",
    "%time result = euclidean_no_vect(rand_train, rand_test)"
   ]
  },
  {
   "cell_type": "markdown",
   "metadata": {},
   "source": [
    "## L1-Norm or Manhattan Distance"
   ]
  },
  {
   "cell_type": "code",
   "execution_count": 12,
   "metadata": {
    "collapsed": false
   },
   "outputs": [
    {
     "name": "stdout",
     "output_type": "stream",
     "text": [
      "Difference Of Vectors: \n",
      "[[[ -4.  -8. -12.]\n",
      "  [  0.  -4.  -8.]\n",
      "  [  3.  -1.  -5.]]\n",
      "\n",
      " [[ -9. -18. -27.]\n",
      "  [ -5. -14. -23.]\n",
      "  [ -2. -11. -20.]]]\n"
     ]
    }
   ],
   "source": [
    "# Find Difference Between Train and Test Vectors\n",
    "diff = train_data-test_data[:, np.newaxis]\n",
    "print(\"Difference Of Vectors: \\n\" + str(diff))"
   ]
  },
  {
   "cell_type": "code",
   "execution_count": 13,
   "metadata": {
    "collapsed": false
   },
   "outputs": [
    {
     "name": "stdout",
     "output_type": "stream",
     "text": [
      "Absolute Differences: \n",
      "[[[ 4.  8. 12.]\n",
      "  [ 0.  4.  8.]\n",
      "  [ 3.  1.  5.]]\n",
      "\n",
      " [[ 9. 18. 27.]\n",
      "  [ 5. 14. 23.]\n",
      "  [ 2. 11. 20.]]]\n"
     ]
    }
   ],
   "source": [
    "absolute_diff = np.abs(diff)\n",
    "print(\"Absolute Differences: \\n\" + str(absolute_diff))"
   ]
  },
  {
   "cell_type": "code",
   "execution_count": 14,
   "metadata": {
    "collapsed": false
   },
   "outputs": [
    {
     "name": "stdout",
     "output_type": "stream",
     "text": [
      "Distance Matrix:\n",
      "[[24. 12.  9.]\n",
      " [54. 42. 33.]]\n"
     ]
    }
   ],
   "source": [
    "distance_matrix = np.sum(absolute_diff, axis=2)\n",
    "print(\"Distance Matrix:\\n\" + str(distance_matrix))"
   ]
  },
  {
   "cell_type": "code",
   "execution_count": 15,
   "metadata": {
    "collapsed": false
   },
   "outputs": [
    {
     "name": "stdout",
     "output_type": "stream",
     "text": [
      "Vectorized Result: \n",
      "[[24. 12.  9.]\n",
      " [54. 42. 33.]]\n",
      "Non-Vectorized Result: \n",
      "[[24. 12.  9.]\n",
      " [54. 42. 33.]]\n",
      "Vectorized Timing:\n",
      "CPU times: user 1.15 ms, sys: 168 µs, total: 1.32 ms\n",
      "Wall time: 772 µs\n",
      "Non-Vectorized Timing:\n",
      "CPU times: user 46 ms, sys: 1.84 ms, total: 47.8 ms\n",
      "Wall time: 48.7 ms\n"
     ]
    }
   ],
   "source": [
    "from knn.distance_metrics import manhattan\n",
    "\n",
    "rand_train = np.random.randn(100,10)\n",
    "rand_test = np.random.randn(100,10)\n",
    "\n",
    "def manhattan_vect(train_data, test_data):\n",
    "    return np.sum(np.abs(train_data-test_data[:, np.newaxis]), axis=2)\n",
    "\n",
    "def manhattan_no_vect(train_data, test_data):\n",
    "    distance_matrix = np.zeros((test_data.shape[0], train_data.shape[0]))\n",
    "    for col, train_vect in enumerate(train_data):\n",
    "        for row, test_vect in enumerate(test_data):\n",
    "            distance_matrix[row, col] = manhattan(train_vect, test_vect)\n",
    "    return distance_matrix\n",
    "\n",
    "\n",
    "print(\"Vectorized Result: \\n\" + str(manhattan_vect(train_data, test_data)))\n",
    "print(\"Non-Vectorized Result: \\n\" + str(manhattan_no_vect(train_data, test_data)))\n",
    "\n",
    "print(\"Vectorized Timing:\")\n",
    "%time result = euclidean_vect(rand_train, rand_test)\n",
    "print(\"Non-Vectorized Timing:\")\n",
    "%time result = euclidean_no_vect(rand_train, rand_test)"
   ]
  },
  {
   "cell_type": "markdown",
   "metadata": {},
   "source": [
    "## Hamming Distance"
   ]
  },
  {
   "cell_type": "code",
   "execution_count": 16,
   "metadata": {
    "collapsed": false
   },
   "outputs": [
    {
     "name": "stdout",
     "output_type": "stream",
     "text": [
      "Logical Differences: \n",
      "[[[ True  True  True]\n",
      "  [False  True  True]\n",
      "  [ True  True  True]]\n",
      "\n",
      " [[ True  True  True]\n",
      "  [ True  True  True]\n",
      "  [ True  True  True]]]\n"
     ]
    }
   ],
   "source": [
    "differences = train_data != test_data[:, np.newaxis]\n",
    "print(\"Logical Differences: \\n\" + str(differences))"
   ]
  },
  {
   "cell_type": "code",
   "execution_count": 17,
   "metadata": {
    "collapsed": false
   },
   "outputs": [
    {
     "name": "stdout",
     "output_type": "stream",
     "text": [
      "Sum Of Differences: \n",
      "[[3 2 3]\n",
      " [3 3 3]]\n"
     ]
    }
   ],
   "source": [
    "sum_of_diffs = np.sum(np.abs(train_data != test_data[:, np.newaxis]), axis=2)\n",
    "print(\"Sum Of Differences: \\n\" + str(sum_of_diffs))"
   ]
  },
  {
   "cell_type": "code",
   "execution_count": 18,
   "metadata": {
    "collapsed": false
   },
   "outputs": [
    {
     "name": "stdout",
     "output_type": "stream",
     "text": [
      "Vectorized Result: \n",
      "[[3 2 3]\n",
      " [3 3 3]]\n",
      "Non-Vectorized Result: \n",
      "[[3. 2. 3.]\n",
      " [3. 3. 3.]]\n",
      "Vectorized Timing:\n",
      "CPU times: user 1.25 ms, sys: 785 µs, total: 2.03 ms\n",
      "Wall time: 1.04 ms\n",
      "Non-Vectorized Timing:\n",
      "CPU times: user 79.7 ms, sys: 1.02 ms, total: 80.8 ms\n",
      "Wall time: 82.8 ms\n"
     ]
    }
   ],
   "source": [
    "from knn.distance_metrics import hamming\n",
    "\n",
    "rand_train = np.random.randn(100,10)\n",
    "rand_test = np.random.randn(100,10)\n",
    "\n",
    "def hamming_vect(train_data, test_data):\n",
    "    return np.sum(np.abs(train_data != test_data[:, np.newaxis]), axis=2)\n",
    "\n",
    "def hamming_no_vect(train_data, test_data):\n",
    "    distance_matrix = np.zeros((test_data.shape[0], train_data.shape[0]))\n",
    "    for col, train_vect in enumerate(train_data):\n",
    "        for row, test_vect in enumerate(test_data):\n",
    "            distance_matrix[row, col] = hamming(train_vect, test_vect)\n",
    "    return distance_matrix\n",
    "\n",
    "\n",
    "print(\"Vectorized Result: \\n\" + str(hamming_vect(train_data, test_data)))\n",
    "print(\"Non-Vectorized Result: \\n\" + str(hamming_no_vect(train_data, test_data)))\n",
    "\n",
    "print(\"Vectorized Timing:\")\n",
    "%time result = hamming_vect(rand_train, rand_test)\n",
    "print(\"Non-Vectorized Timing:\")\n",
    "%time result = hamming_no_vect(rand_train, rand_test)"
   ]
  },
  {
   "cell_type": "markdown",
   "metadata": {},
   "source": [
    "## Cosine Sim"
   ]
  },
  {
   "cell_type": "code",
   "execution_count": 19,
   "metadata": {
    "collapsed": false
   },
   "outputs": [
    {
     "name": "stdout",
     "output_type": "stream",
     "text": [
      "Train Vector Norms:\n",
      "[ 14. 110. 245.]\n",
      "Test Vector Norms:\n",
      "[ 350. 1400.]\n"
     ]
    }
   ],
   "source": [
    "train_norms = np.sum(np.square(train_data), axis=1)\n",
    "test_norms = np.sum(np.square(test_data), axis=1)\n",
    "print(\"Train Vector Norms:\\n\" + str(train_norms))\n",
    "print(\"Test Vector Norms:\\n\" + str(test_norms))"
   ]
  },
  {
   "cell_type": "code",
   "execution_count": 20,
   "metadata": {
    "collapsed": false
   },
   "outputs": [
    {
     "name": "stdout",
     "output_type": "stream",
     "text": [
      "Product Of Norms:\n",
      "[[  4900.  19600.]\n",
      " [ 38500. 154000.]\n",
      " [ 85750. 343000.]]\n"
     ]
    }
   ],
   "source": [
    "prod_of_norms = np.outer(train_norms, test_norms)\n",
    "print(\"Product Of Norms:\\n\" + str(prod_of_norms))"
   ]
  },
  {
   "cell_type": "code",
   "execution_count": 21,
   "metadata": {
    "collapsed": false
   },
   "outputs": [
    {
     "name": "stdout",
     "output_type": "stream",
     "text": [
      "Dot Products:\n",
      "[[ 70. 140.]\n",
      " [190. 380.]\n",
      " [280. 560.]]\n"
     ]
    }
   ],
   "source": [
    "dots = np.dot(train_data, test_data.T)\n",
    "print(\"Dot Products:\\n\" + str(dots))"
   ]
  },
  {
   "cell_type": "code",
   "execution_count": 22,
   "metadata": {
    "collapsed": false
   },
   "outputs": [
    {
     "name": "stdout",
     "output_type": "stream",
     "text": [
      "Similarity Matrix:\n",
      "[[0.01428571 0.00714286]\n",
      " [0.00493506 0.00246753]\n",
      " [0.00326531 0.00163265]]\n"
     ]
    }
   ],
   "source": [
    "similarity_matrix = dots/prod_of_norms\n",
    "print(\"Similarity Matrix:\\n\" + str(similarity_matrix))"
   ]
  },
  {
   "cell_type": "code",
   "execution_count": 23,
   "metadata": {
    "collapsed": false
   },
   "outputs": [
    {
     "name": "stdout",
     "output_type": "stream",
     "text": [
      "Vectorized Result: \n",
      "[[0.         0.03167034 0.04381711]\n",
      " [0.         0.03167034 0.04381711]]\n",
      "Non-Vectorized Result: \n",
      "[[0.         0.03167034 0.04381711]\n",
      " [0.         0.03167034 0.04381711]]\n",
      "Vectorized Timing:\n",
      "CPU times: user 1.4 ms, sys: 478 µs, total: 1.88 ms\n",
      "Wall time: 1.48 ms\n",
      "Non-Vectorized Timing:\n",
      "CPU times: user 79.2 ms, sys: 1.82 ms, total: 81 ms\n",
      "Wall time: 81 ms\n"
     ]
    }
   ],
   "source": [
    "from knn.distance_metrics import cosine\n",
    "\n",
    "def cosine_vect(train_data, test_data):\n",
    "    train_norms = np.sqrt(np.sum(np.square(train_data), axis=1))\n",
    "    test_norms = np.sqrt(np.sum(np.square(test_data), axis=1))\n",
    "    return 1-(np.dot(train_data, test_data.T)/np.outer(train_norms, test_norms)).T\n",
    "\n",
    "def cosine_no_vect(train_data, test_data):\n",
    "    distance_matrix = np.zeros((test_data.shape[0], train_data.shape[0]))\n",
    "    for col, train_vect in enumerate(train_data):\n",
    "        for row, test_vect in enumerate(test_data):\n",
    "            distance_matrix[row, col] = cosine(train_vect, test_vect)\n",
    "    return distance_matrix\n",
    "            \n",
    "            \n",
    "print(\"Vectorized Result: \\n\" + str(cosine_vect(train_data, test_data)))\n",
    "print(\"Non-Vectorized Result: \\n\" + str(cosine_no_vect(train_data, test_data)))\n",
    "\n",
    "print(\"Vectorized Timing:\")\n",
    "%time result = cosine_vect(rand_train, rand_test)\n",
    "print(\"Non-Vectorized Timing:\")\n",
    "%time result = cosine_no_vect(rand_train, rand_test)"
   ]
  },
  {
   "cell_type": "markdown",
   "metadata": {},
   "source": [
    "# Correlation"
   ]
  },
  {
   "cell_type": "code",
   "execution_count": 24,
   "metadata": {
    "collapsed": false
   },
   "outputs": [
    {
     "name": "stdout",
     "output_type": "stream",
     "text": [
      "Mean Removed Train:\n",
      "[[-1.  0.  1.]\n",
      " [-1.  0.  1.]\n",
      " [-1.  0.  1.]]\n",
      "Mean Removed Test:\n",
      "[[ -5.   0.   5.]\n",
      " [-10.   0.  10.]]\n"
     ]
    }
   ],
   "source": [
    "mean_removed_train = train_data-np.mean(train_data, axis=1)[:, np.newaxis]\n",
    "mean_removed_test = test_data-np.mean(test_data, axis=1)[:, np.newaxis,]\n",
    "\n",
    "print(\"Mean Removed Train:\\n\" + str(mean_removed_train))\n",
    "print(\"Mean Removed Test:\\n\" + str(mean_removed_test))"
   ]
  },
  {
   "cell_type": "code",
   "execution_count": 25,
   "metadata": {
    "collapsed": false
   },
   "outputs": [
    {
     "name": "stdout",
     "output_type": "stream",
     "text": [
      "Std Dev Train:\n",
      "[1.41421356 1.41421356 1.41421356]\n",
      "Std Dev Train:\n",
      "[ 7.07106781 14.14213562]\n"
     ]
    }
   ],
   "source": [
    "std_dev_train = np.sqrt(np.sum(np.square(mean_removed_train), axis=1))\n",
    "print(\"Std Dev Train:\\n\" + str(std_dev_train))\n",
    "\n",
    "std_dev_test = np.sqrt(np.sum(np.square(mean_removed_test), axis=1))\n",
    "print(\"Std Dev Train:\\n\" + str(std_dev_test))"
   ]
  },
  {
   "cell_type": "code",
   "execution_count": 26,
   "metadata": {
    "collapsed": false
   },
   "outputs": [
    {
     "name": "stdout",
     "output_type": "stream",
     "text": [
      "Covariance Matrix:\n",
      "[[10. 20.]\n",
      " [10. 20.]\n",
      " [10. 20.]]\n"
     ]
    }
   ],
   "source": [
    "cov = np.dot(mean_removed_train, mean_removed_test.T)\n",
    "print(\"Covariance Matrix:\\n\" + str(cov))"
   ]
  },
  {
   "cell_type": "code",
   "execution_count": 27,
   "metadata": {
    "collapsed": false
   },
   "outputs": [
    {
     "name": "stdout",
     "output_type": "stream",
     "text": [
      "Std Dev Dots:\n",
      "[[10. 20.]\n",
      " [10. 20.]\n",
      " [10. 20.]]\n"
     ]
    }
   ],
   "source": [
    "std_dev_dot = np.outer(std_dev_train, std_dev_test)\n",
    "print(\"Std Dev Dots:\\n\" + str(std_dev_dot))"
   ]
  },
  {
   "cell_type": "code",
   "execution_count": 28,
   "metadata": {
    "collapsed": false
   },
   "outputs": [
    {
     "name": "stdout",
     "output_type": "stream",
     "text": [
      "Correlations:\n",
      "[[1. 1.]\n",
      " [1. 1.]\n",
      " [1. 1.]]\n"
     ]
    }
   ],
   "source": [
    "correlations = cov/std_dev_dot\n",
    "print(\"Correlations:\\n\" + str(correlations))"
   ]
  },
  {
   "cell_type": "code",
   "execution_count": 29,
   "metadata": {
    "collapsed": false
   },
   "outputs": [
    {
     "name": "stdout",
     "output_type": "stream",
     "text": [
      "Vectorized Result: \n",
      "[[2.22044605e-16 2.22044605e-16]\n",
      " [2.22044605e-16 2.22044605e-16]\n",
      " [2.22044605e-16 2.22044605e-16]]\n",
      "Non-Vectorized Result: \n",
      "[[2.22044605e-16 2.22044605e-16 2.22044605e-16]\n",
      " [2.22044605e-16 2.22044605e-16 2.22044605e-16]]\n",
      "Vectorized Timing:\n",
      "CPU times: user 1.1 ms, sys: 208 µs, total: 1.31 ms\n",
      "Wall time: 1.31 ms\n",
      "Non-Vectorized Timing:\n",
      "CPU times: user 302 ms, sys: 14.3 ms, total: 316 ms\n",
      "Wall time: 308 ms\n"
     ]
    }
   ],
   "source": [
    "from knn.distance_metrics import pearson\n",
    "\n",
    "def pearson_vect(train_data, test_data):\n",
    "    mean_removed_train = (train_data-np.mean(train_data, axis=1)[:, np.newaxis])\n",
    "    mean_removed_test = (test_data-np.mean(test_data, axis=1)[:, np.newaxis])\n",
    "    std_dev_train = np.sqrt(np.sum(np.square(mean_removed_train), axis=1))\n",
    "    std_dev_test = np.sqrt(np.sum(np.square(mean_removed_test), axis=1))\n",
    "    return 1-np.dot(mean_removed_train, mean_removed_test.T)/np.outer(std_dev_train, std_dev_test)\n",
    "\n",
    "def pearson_no_vect(train_data, test_data):\n",
    "    distance_matrix = np.zeros((test_data.shape[0], train_data.shape[0]))\n",
    "    for col, train_vect in enumerate(train_data):\n",
    "        for row, test_vect in enumerate(test_data):\n",
    "            distance_matrix[row, col] = pearson(train_vect, test_vect)\n",
    "    return distance_matrix\n",
    "\n",
    "\n",
    "\n",
    "print(\"Vectorized Result: \\n\" + str(pearson_vect(train_data, test_data)))\n",
    "print(\"Non-Vectorized Result: \\n\" + str(pearson_no_vect(train_data, test_data)))\n",
    "\n",
    "print(\"Vectorized Timing:\")\n",
    "%time result = pearson_vect(rand_train, rand_test)\n",
    "print(\"Non-Vectorized Timing:\")\n",
    "%time result = pearson_no_vect(rand_train, rand_test)"
   ]
  },
  {
   "cell_type": "markdown",
   "metadata": {},
   "source": [
    "## Chi Squared"
   ]
  },
  {
   "cell_type": "code",
   "execution_count": 30,
   "metadata": {
    "collapsed": false
   },
   "outputs": [
    {
     "name": "stdout",
     "output_type": "stream",
     "text": [
      "All Column Sums:\n",
      "[[[ 6. 12. 18.]\n",
      "  [10. 16. 22.]\n",
      "  [13. 19. 25.]]\n",
      "\n",
      " [[11. 22. 33.]\n",
      "  [15. 26. 37.]\n",
      "  [18. 29. 40.]]]\n"
     ]
    }
   ],
   "source": [
    "all_col_sum = train_data + test_data[:, np.newaxis]\n",
    "print(\"All Column Sums:\\n\" + str(all_col_sum))"
   ]
  },
  {
   "cell_type": "code",
   "execution_count": 31,
   "metadata": {
    "collapsed": false
   },
   "outputs": [
    {
     "name": "stdout",
     "output_type": "stream",
     "text": [
      "All Column Sums Reciprocal:\n",
      "[[[0.16666667 0.08333333 0.05555556]\n",
      "  [0.1        0.0625     0.04545455]\n",
      "  [0.07692308 0.05263158 0.04      ]]\n",
      "\n",
      " [[0.09090909 0.04545455 0.03030303]\n",
      "  [0.06666667 0.03846154 0.02702703]\n",
      "  [0.05555556 0.03448276 0.025     ]]]\n"
     ]
    }
   ],
   "source": [
    "all_col_sum_recip = np.reciprocal(all_col_sum, where=(all_col_sum != 0.0))\n",
    "print(\"All Column Sums Reciprocal:\\n\" + str(all_col_sum_recip))"
   ]
  },
  {
   "cell_type": "code",
   "execution_count": 32,
   "metadata": {
    "collapsed": false
   },
   "outputs": [
    {
     "name": "stdout",
     "output_type": "stream",
     "text": [
      "Sum Of Train Vectors:\n",
      "[ 6. 18. 27.]\n",
      "Sum Of Test Vectors:\n",
      "[30. 60.]\n"
     ]
    }
   ],
   "source": [
    "vector_train_sum = np.sum(train_data, axis=1)\n",
    "print(\"Sum Of Train Vectors:\\n\" + str(vector_train_sum))\n",
    "vector_test_sum = np.sum(test_data, axis=1)\n",
    "print(\"Sum Of Test Vectors:\\n\" + str(vector_test_sum))"
   ]
  },
  {
   "cell_type": "code",
   "execution_count": 33,
   "metadata": {
    "collapsed": false
   },
   "outputs": [
    {
     "name": "stdout",
     "output_type": "stream",
     "text": [
      "Relative Freq Train Vectors:\n",
      "[[0.16666667 0.33333333 0.5       ]\n",
      " [0.27777778 0.33333333 0.38888889]\n",
      " [0.2962963  0.33333333 0.37037037]]\n",
      "Relative Freq Test Vectors:\n",
      "[[0.16666667 0.33333333 0.5       ]\n",
      " [0.16666667 0.33333333 0.5       ]]\n"
     ]
    }
   ],
   "source": [
    "rel_freq_train = train_data/vector_train_sum[:, np.newaxis]\n",
    "print(\"Relative Freq Train Vectors:\\n\" + str(rel_freq_train))\n",
    "\n",
    "rel_freq_test = test_data/vector_test_sum[:, np.newaxis]\n",
    "print(\"Relative Freq Test Vectors:\\n\" + str(rel_freq_test))"
   ]
  },
  {
   "cell_type": "code",
   "execution_count": 34,
   "metadata": {
    "collapsed": false
   },
   "outputs": [
    {
     "name": "stdout",
     "output_type": "stream",
     "text": [
      "Difference Between Relative Freq of Vectors:\n",
      "[[[ 0.          0.          0.        ]\n",
      "  [ 0.11111111  0.         -0.11111111]\n",
      "  [ 0.12962963  0.         -0.12962963]]\n",
      "\n",
      " [[ 0.          0.          0.        ]\n",
      "  [ 0.11111111  0.         -0.11111111]\n",
      "  [ 0.12962963  0.         -0.12962963]]]\n",
      "Difference Between Relative Freq of Vectors Squared:\n",
      "[[[0.         0.         0.        ]\n",
      "  [0.01234568 0.         0.01234568]\n",
      "  [0.01680384 0.         0.01680384]]\n",
      "\n",
      " [[0.         0.         0.        ]\n",
      "  [0.01234568 0.         0.01234568]\n",
      "  [0.01680384 0.         0.01680384]]]\n"
     ]
    }
   ],
   "source": [
    "diff_rel_freq = rel_freq_train-rel_freq_test[:, np.newaxis]\n",
    "print(\"Difference Between Relative Freq of Vectors:\\n\" + str(diff_rel_freq))\n",
    "\n",
    "diff_rel_freq_square = np.square(diff_rel_freq)\n",
    "print(\"Difference Between Relative Freq of Vectors Squared:\\n\" + str(diff_rel_freq_square))"
   ]
  },
  {
   "cell_type": "code",
   "execution_count": 35,
   "metadata": {
    "collapsed": false
   },
   "outputs": [
    {
     "name": "stdout",
     "output_type": "stream",
     "text": [
      "Product of Col Sums Recips and Diffs Of Rel Freq Squared:\n",
      "[[[0.         0.         0.        ]\n",
      "  [0.00123457 0.         0.00056117]\n",
      "  [0.0012926  0.         0.00067215]]\n",
      "\n",
      " [[0.         0.         0.        ]\n",
      "  [0.00082305 0.         0.00033367]\n",
      "  [0.00093355 0.         0.0004201 ]]]\n",
      "Sums of Products of Col Sums Recips and Diffs Of Rel Freq Squared:\n",
      "[[0.         0.00179574 0.00196476]\n",
      " [0.         0.00115671 0.00135364]]\n",
      "Chi Squared Stats: \n",
      "[[0.         0.04237612 0.04432558]\n",
      " [0.         0.03401047 0.03679188]]\n"
     ]
    }
   ],
   "source": [
    "recips_prod_with_diffs_rel_freq = all_col_sum_recip * diff_rel_freq_square\n",
    "print(\"Product of Col Sums Recips and Diffs Of Rel Freq Squared:\\n\" + str(recips_prod_with_diffs_rel_freq))\n",
    "\n",
    "sums_of_recips_prod_diffs_rel_freq = np.sum(all_col_sum_recip * diff_rel_freq_square, axis=2)\n",
    "print(\"Sums of Products of Col Sums Recips and Diffs Of Rel Freq Squared:\\n\" + str(sums_of_recips_prod_diffs_rel_freq))\n",
    "\n",
    "chisqr = np.sqrt(np.sum(all_col_sum_recip * diff_rel_freq_square, axis=2))\n",
    "print(\"Chi Squared Stats: \\n\" + str(chisqr))"
   ]
  },
  {
   "cell_type": "code",
   "execution_count": 36,
   "metadata": {
    "collapsed": false
   },
   "outputs": [
    {
     "name": "stdout",
     "output_type": "stream",
     "text": [
      "Vectorized Result: \n",
      "[[0.         0.04237612 0.04432558]\n",
      " [0.         0.03401047 0.03679188]]\n",
      "Non-Vectorized Result: \n",
      "[[0.         0.04237612 0.04432558]\n",
      " [0.         0.03401047 0.03679188]]\n",
      "Vectorized Timing:\n",
      "CPU times: user 3.35 ms, sys: 1.76 ms, total: 5.11 ms\n",
      "Wall time: 3.08 ms\n",
      "Non-Vectorized Timing:\n",
      "CPU times: user 321 ms, sys: 23.6 ms, total: 344 ms\n",
      "Wall time: 328 ms\n"
     ]
    }
   ],
   "source": [
    "from knn.distance_metrics import chisqr\n",
    "\n",
    "rand_train = np.random.randint(11, size=(100, 10))\n",
    "rand_test = np.random.randint(11, size=(100, 10))\n",
    "\n",
    "\n",
    "def chisqr_vect(train_data, test_data):\n",
    "    all_col_sum = train_data + test_data[:, np.newaxis]\n",
    "    all_col_sum_recip = np.reciprocal(all_col_sum, where=(all_col_sum != 0.0))\n",
    "    vector_train_sum = np.sum(train_data, axis=1)\n",
    "    vector_test_sum = np.sum(test_data, axis=1)\n",
    "    \n",
    "    rel_freq_train = np.divide(train_data, vector_train_sum[:, np.newaxis], \n",
    "                               out=np.full([train_data.shape[0], train_data.shape[1]], np.nan),\n",
    "                               where=(vector_train_sum[:, np.newaxis] != 0))\n",
    "    \n",
    "    rel_freq_test = np.divide(test_data, vector_test_sum[:, np.newaxis], \n",
    "                               out=np.full([test_data.shape[0], test_data.shape[1]], np.nan),\n",
    "                               where=(vector_test_sum[:, np.newaxis] != 0))\n",
    "    \n",
    "    diff_rel_freq_squared = np.square(rel_freq_train-rel_freq_test[:, np.newaxis])\n",
    "    chisqr = np.sqrt(np.sum(all_col_sum_recip * diff_rel_freq_squared, axis=2))\n",
    "    return chisqr\n",
    "\n",
    "def chisqr_no_vect(train_data, test_data):\n",
    "    distance_matrix = np.zeros((test_data.shape[0], train_data.shape[0]))\n",
    "    for col, train_vect in enumerate(train_data):\n",
    "        for row, test_vect in enumerate(test_data):\n",
    "            distance_matrix[row, col] = chisqr(train_vect, test_vect)\n",
    "    return distance_matrix\n",
    "\n",
    "\n",
    "\n",
    "print(\"Vectorized Result: \\n\" + str(chisqr_vect(train_data, test_data)))\n",
    "print(\"Non-Vectorized Result: \\n\" + str(chisqr_no_vect(train_data, test_data)))\n",
    "\n",
    "print(\"Vectorized Timing:\")\n",
    "%time result = chisqr_vect(rand_train, rand_test)\n",
    "print(\"Non-Vectorized Timing:\")\n",
    "%time result = chisqr_no_vect(rand_train, rand_test)"
   ]
  },
  {
   "cell_type": "markdown",
   "metadata": {},
   "source": [
    "## Benchmarking With KNN"
   ]
  },
  {
   "cell_type": "code",
   "execution_count": 37,
   "metadata": {
    "collapsed": true
   },
   "outputs": [],
   "source": [
    "rand_train = np.random.randn(10,10)\n",
    "rand_test = np.random.randn(10,10)"
   ]
  },
  {
   "cell_type": "code",
   "execution_count": 38,
   "metadata": {
    "collapsed": false
   },
   "outputs": [
    {
     "name": "stdout",
     "output_type": "stream",
     "text": [
      "KNN - Introselect k=1: \n",
      "(array([[2, 1],\n",
      "       [2, 1]]), array([[ 5.91607978,  8.94427191],\n",
      "       [22.91287847, 27.38612788]]))\n",
      "42.1 µs ± 799 ns per loop (mean ± std. dev. of 15 runs, 10000 loops each)\n",
      "42.3 µs ± 963 ns per loop (mean ± std. dev. of 15 runs, 10000 loops each)\n",
      "42.7 µs ± 880 ns per loop (mean ± std. dev. of 15 runs, 10000 loops each)\n",
      "42.7 µs ± 835 ns per loop (mean ± std. dev. of 15 runs, 10000 loops each)\n"
     ]
    }
   ],
   "source": [
    "def knn_bf_introselect(train, test , distance, k=1):\n",
    "    distance_matrix = distance(train, test)\n",
    "    k_smallest_ind = np.argpartition(distance_matrix, k-1)[:,:k] \n",
    "    return k_smallest_ind, np.array([distance_matrix[i, x] for i, x in enumerate(k_smallest_ind)])\n",
    "    \n",
    "\n",
    "print(\"KNN - Introselect k=1: \\n\" + str(knn_bf_introselect(train_data, test_data, euclidean_vect , 2)))\n",
    "\n",
    "%timeit -r 15 result_1 = knn_bf_introselect(rand_train, rand_test, euclidean_vect, 1);\n",
    "%timeit -r 15 result_2 = knn_bf_introselect(rand_train, rand_test, euclidean_vect, 3);\n",
    "%timeit -r 15 result_3 = knn_bf_introselect(rand_train, rand_test, euclidean_vect, 5);\n",
    "%timeit -r 15 result_4 = knn_bf_introselect(rand_train, rand_test, euclidean_vect, 7);"
   ]
  },
  {
   "cell_type": "code",
   "execution_count": 39,
   "metadata": {
    "collapsed": false
   },
   "outputs": [
    {
     "name": "stdout",
     "output_type": "stream",
     "text": [
      "KNN - Introselect k=1: \n",
      "(array([[2, 1],\n",
      "       [2, 1]]), array([[ 5.91607978,  8.94427191],\n",
      "       [22.91287847, 27.38612788]]))\n",
      "42.1 µs ± 582 ns per loop (mean ± std. dev. of 15 runs, 10000 loops each)\n",
      "42.4 µs ± 947 ns per loop (mean ± std. dev. of 15 runs, 10000 loops each)\n",
      "42.6 µs ± 934 ns per loop (mean ± std. dev. of 15 runs, 10000 loops each)\n",
      "42.9 µs ± 1.16 µs per loop (mean ± std. dev. of 15 runs, 10000 loops each)\n"
     ]
    }
   ],
   "source": [
    "import heapq\n",
    "\n",
    "def knn_bf_max_heap(train, test, distance, k=1):\n",
    "    distance_matrix = distance(train, test)\n",
    "    \n",
    "    smallest_k_matrix = np.zeros((test.shape[0], k), dtype=[(\"index\",int), (\"dist\",float)])\n",
    "    indices_list = []\n",
    "    distances_list = []\n",
    "    for index, row in enumerate(distance_matrix):\n",
    "        heapq.heapify(row.tolist())\n",
    "        top_k = heapq.nsmallest(k, enumerate(row), key=lambda x: x[1])\n",
    "        indices_list.append([item[0] for item in top_k])\n",
    "        distances_list.append([item[1] for item in top_k])\n",
    "        \n",
    "    return np.array(indices_list), np.array(distances_list)\n",
    "    \n",
    "    \n",
    "print(\"KNN - Introselect k=1: \\n\" + str(knn_bf_max_heap(train_data, test_data, euclidean_vect , 2)))\n",
    "%timeit -r 15 result_1 = knn_bf_introselect(rand_train, rand_test, euclidean_vect, 1);\n",
    "%timeit -r 15 result_2 = knn_bf_introselect(rand_train, rand_test, euclidean_vect, 3);\n",
    "%timeit -r 15 result_3 = knn_bf_introselect(rand_train, rand_test, euclidean_vect, 5);\n",
    "%timeit -r 15 result_4 = knn_bf_introselect(rand_train, rand_test, euclidean_vect, 7);"
   ]
  },
  {
   "cell_type": "code",
   "execution_count": null,
   "metadata": {
    "collapsed": true
   },
   "outputs": [],
   "source": []
  }
 ],
 "metadata": {
  "kernelspec": {
   "display_name": "knn_env_Python_3",
   "language": "python",
   "name": "knn_env_python_3"
  },
  "language_info": {
   "codemirror_mode": {
    "name": "ipython",
    "version": 3
   },
   "file_extension": ".py",
   "mimetype": "text/x-python",
   "name": "python",
   "nbconvert_exporter": "python",
   "pygments_lexer": "ipython3",
   "version": "3.5.2"
  }
 },
 "nbformat": 4,
 "nbformat_minor": 2
}
