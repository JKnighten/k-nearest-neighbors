{
 "cells": [
  {
   "cell_type": "code",
   "execution_count": 1,
   "metadata": {
    "collapsed": true
   },
   "outputs": [],
   "source": [
    "# Change Working Directory To Allow knn Imports\n",
    "import os \n",
    "os.chdir('../')"
   ]
  },
  {
   "cell_type": "code",
   "execution_count": 2,
   "metadata": {
    "collapsed": false
   },
   "outputs": [
    {
     "data": {
      "text/plain": [
       "<Figure size 640x480 with 1 Axes>"
      ]
     },
     "metadata": {},
     "output_type": "display_data"
    }
   ],
   "source": [
    "import numpy as np\n",
    "import matplotlib.pyplot as plt\n",
    "\n",
    "sample_data = np.array([[4, -2], [5, 5], [8, 7], [-6, -1], [-1, -3], [-4,-8]])\n",
    "sample_label= np.array([1, 1, 1, 0, 0, 0])\n",
    "\n",
    "def plot_ball_tree(data, circles):\n",
    "    fig, ax = plt.subplots()\n",
    "\n",
    "    # Axis\n",
    "    plt.axhline(0, color=\"black\")\n",
    "    plt.axvline(0, color=\"black\")\n",
    "\n",
    "    # Set X and Y Axis Bounds\n",
    "    plt.xlim(-10,  10)\n",
    "    plt.ylim(-10, 10)\n",
    "\n",
    "    # Add Data\n",
    "    plt.scatter(data[:, 0], data[:, 1])\n",
    "\n",
    "    # Add Circle\n",
    "    for circle in circles:\n",
    "        circle1 = plt.Circle(circle[0], circle[1], color='r', fill=False)\n",
    "        ax.add_artist(circle1)\n",
    "\n",
    "    plt.show()\n",
    " \n",
    "plot_ball_tree(sample_data, [[(1,1), 3]])\n",
    "\n"
   ]
  },
  {
   "cell_type": "code",
   "execution_count": 3,
   "metadata": {
    "collapsed": false
   },
   "outputs": [
    {
     "name": "stdout",
     "output_type": "stream",
     "text": [
      "[[-6 -1]]\n",
      "[8 7]\n",
      "[-4 -8]\n",
      "[12 15]\n",
      "[  18  135  201  -87  -57 -168]\n",
      "[[-6 -1]\n",
      " [-4 -8]\n",
      " [-1 -3]]\n",
      "[[ 4 -2]\n",
      " [ 5  5]\n",
      " [ 8  7]]\n",
      "[ 1.         -0.33333333]\n",
      "10.137937550497034\n"
     ]
    },
    {
     "ename": "TypeError",
     "evalue": "plot_ball_tree() takes 2 positional arguments but 3 were given",
     "output_type": "error",
     "traceback": [
      "\u001b[0;31m---------------------------------------------------------------------------\u001b[0m",
      "\u001b[0;31mTypeError\u001b[0m                                 Traceback (most recent call last)",
      "\u001b[0;32m<ipython-input-3-c31e239d8e65>\u001b[0m in \u001b[0;36m<module>\u001b[0;34m()\u001b[0m\n\u001b[1;32m     42\u001b[0m \u001b[0mprint\u001b[0m\u001b[0;34m(\u001b[0m\u001b[0mradius\u001b[0m\u001b[0;34m)\u001b[0m\u001b[0;34m\u001b[0m\u001b[0m\n\u001b[1;32m     43\u001b[0m \u001b[0;34m\u001b[0m\u001b[0m\n\u001b[0;32m---> 44\u001b[0;31m \u001b[0mplot_ball_tree\u001b[0m\u001b[0;34m(\u001b[0m\u001b[0msample_data\u001b[0m\u001b[0;34m,\u001b[0m \u001b[0mcenter\u001b[0m\u001b[0;34m,\u001b[0m \u001b[0mradius\u001b[0m\u001b[0;34m)\u001b[0m\u001b[0;34m\u001b[0m\u001b[0m\n\u001b[0m",
      "\u001b[0;31mTypeError\u001b[0m: plot_ball_tree() takes 2 positional arguments but 3 were given"
     ]
    }
   ],
   "source": [
    "from knn.distance_metrics import euclidean\n",
    "\n",
    "# Pick Item Randomly\n",
    "rand_index = np.random.choice(sample_data.shape[0], 1, replace=False) \n",
    "rand_point = sample_data[rand_index, :]\n",
    "print(rand_point)\n",
    "\n",
    "distances = euclidean(sample_data, rand_point)\n",
    "ind_of_max_dist = np.argmax(distances)\n",
    "max_vector_1 = sample_data[ind_of_max_dist, :]\n",
    "print(max_vector_1)\n",
    "\n",
    "distances = euclidean(sample_data, max_vector_1[np.newaxis, :])\n",
    "ind_of_max_dist = np.argmax(distances)\n",
    "max_vector_2 = sample_data[ind_of_max_dist, :]\n",
    "print(max_vector_2)\n",
    "\n",
    "\n",
    "# Project All Data\n",
    "proj_vector = max_vector_1-max_vector_2\n",
    "print(proj_vector)\n",
    "\n",
    "proj_data = sample_data.dot(proj_vector)\n",
    "print(proj_data)\n",
    "\n",
    "# Median\n",
    "median_ind = np.argpartition(proj_data, proj_data.size//2)\n",
    "lower_than_med_inds = median_ind[:proj_data.size//2]\n",
    "greater_than_med_inds = median_ind[proj_data.size//2:]\n",
    "\n",
    "# Left Side\n",
    "print(sample_data[lower_than_med_inds])\n",
    "\n",
    "# Right Size\n",
    "print(sample_data[greater_than_med_inds])\n",
    "\n",
    "\n",
    "# Make Circle\n",
    "center = np.mean(sample_data, axis=0)\n",
    "print(center)\n",
    "radius = np.max(euclidean(sample_data, center[np.newaxis, :]))\n",
    "print(radius)\n",
    "\n",
    "plot_ball_tree(sample_data, center, radius)"
   ]
  },
  {
   "cell_type": "code",
   "execution_count": 5,
   "metadata": {
    "collapsed": false
   },
   "outputs": [
    {
     "name": "stdout",
     "output_type": "stream",
     "text": [
      "[[array([ 1.        , -0.33333333]), 10.137937550497034], [array([-3.66666667, -4.        ]), 4.013864859597432], [array([-3.5, -2. ]), 2.692582403567252], [array([5.66666667, 3.33333333]), 5.587684871413404], [array([4.5, 1.5]), 3.5355339059327378]]\n"
     ]
    },
    {
     "data": {
      "image/png": "[encoded data removed]",
      "text/plain": [
       "<Figure size 432x288 with 1 Axes>"
      ]
     },
     "metadata": {
      "needs_background": "light"
     },
     "output_type": "display_data"
    }
   ],
   "source": [
    "class BallTreeNode:\n",
    "    def __init__(self):\n",
    "        self.center = None\n",
    "        self.radius = None\n",
    "        self.left_child = None\n",
    "        self.right_child = None\n",
    "        self.leaf_data = None\n",
    "\n",
    "def split_tree(data, leaf_size):\n",
    "    \n",
    "    if data.shape[0] <= leaf_size:\n",
    "        leaf_node = BallTreeNode()\n",
    "        center = np.mean(data, axis=0)\n",
    "        radius = np.max(euclidean(data, center[np.newaxis, :]))\n",
    "        leaf_node.center = center\n",
    "        leaf_node.radius = radius\n",
    "        leaf_node.leaf_data = data\n",
    "        return leaf_node\n",
    "    \n",
    "    # Random Point x0\n",
    "    rand_index = np.random.choice(data.shape[0], 1, replace=False) \n",
    "    rand_point = data[rand_index, :]\n",
    "    \n",
    "    # Find Maximal Point x1\n",
    "    distances = euclidean(data, rand_point)\n",
    "    ind_of_max_dist = np.argmax(distances)\n",
    "    max_vector_1 = data[ind_of_max_dist, :]\n",
    "    \n",
    "    # Find Maximal Point x2\n",
    "    distances = euclidean(data, max_vector_1[np.newaxis, :])\n",
    "    ind_of_max_dist = np.argmax(distances)\n",
    "    max_vector_2 = data[ind_of_max_dist, :]\n",
    "    \n",
    "    # Project Data\n",
    "    proj_data = data.dot(max_vector_1-max_vector_2)\n",
    "    \n",
    "    # Find Median And Split Data\n",
    "    median_ind = np.argpartition(proj_data, proj_data.size//2)\n",
    "    lower_than_med_inds = median_ind[:proj_data.size//2]\n",
    "    greater_than_med_inds = median_ind[proj_data.size//2:]\n",
    "    \n",
    "    # Create Circle\n",
    "    center = np.mean(data, axis=0)\n",
    "    radius = np.max(euclidean(data, center[np.newaxis, :]))\n",
    "    \n",
    "    tree_node = BallTreeNode()\n",
    "    tree_node.center = center\n",
    "    tree_node.radius = radius\n",
    "    tree_node.left_child = split_tree(data[lower_than_med_inds], leaf_size)\n",
    "    tree_node.right_child = split_tree(data[greater_than_med_inds], leaf_size)\n",
    "    \n",
    "    return tree_node\n",
    "   \n",
    "def get_circles(ball_tree):\n",
    "    \n",
    "    node_list = [ball_tree]\n",
    "    circle_list = []\n",
    "    \n",
    "    while len(node_list) != 0:\n",
    "        current_node = node_list.pop()\n",
    "        if current_node.leaf_data is None:\n",
    "            circle_list.append([current_node.center, current_node.radius])\n",
    "            node_list.append(current_node.left_child)\n",
    "            node_list.append(current_node.right_child)\n",
    "    \n",
    "    return circle_list\n",
    "\n",
    "tree = split_tree(sample_data, 1)\n",
    "\n",
    "print(get_circles(tree))\n",
    "\n",
    "plot_ball_tree(sample_data, get_circles(tree))"
   ]
  },
  {
   "cell_type": "code",
   "execution_count": 114,
   "metadata": {
    "collapsed": false
   },
   "outputs": [
    {
     "data": {
      "image/png": "[encoded data removed]",
      "text/plain": [
       "<Figure size 432x288 with 1 Axes>"
      ]
     },
     "metadata": {
      "needs_background": "light"
     },
     "output_type": "display_data"
    }
   ],
   "source": [
    "group_1 = np.random.randint(2, 10, (10, 2))\n",
    "group_2 = np.random.randint(-10, -2, (10, 2))\n",
    "rand_data = np.vstack((group_1, group_2))\n",
    "tree = split_tree(rand_data, 3)\n",
    "plot_ball_tree(rand_data, get_circles(tree))"
   ]
  },
  {
   "cell_type": "code",
   "execution_count": 296,
   "metadata": {
    "collapsed": false
   },
   "outputs": [],
   "source": [
    "import heapq\n",
    "\n",
    "def query_ball_tree(target_vect, k, queue, curr_node):\n",
    "    \n",
    "    # Prune This Ball\n",
    "    if euclidean(target_vect, curr_node.center[np.newaxis,:]) - curr_node.radius >= -1*queue[0][0]:\n",
    "        #print(\"Pruned\")\n",
    "        return queue\n",
    "    \n",
    "    # Currently A Leaf Node\n",
    "    if curr_node.leaf_data is not None:\n",
    "        #print(\"Leaf\")\n",
    "        for point in curr_node.leaf_data:\n",
    "            dist = np.asscalar(euclidean(target_vect, point[np.newaxis,:]))\n",
    "            if dist < -1*queue[0][0]: \n",
    "                heapq.heappushpop(queue, (-1*dist, np.random.randint(9999999999), point))\n",
    "         \n",
    "    # Not Leaf So Explore Children\n",
    "    else:\n",
    "        #print(\"Non-Pruned Internal Node\")\n",
    "        \n",
    "        child1 = curr_node.left_child\n",
    "        child2 = curr_node.right_child\n",
    "        \n",
    "        child1_dist = euclidean(child1.center[np.newaxis,:], target_vect)\n",
    "        child2_dist = euclidean(child2.center[np.newaxis,:], target_vect)\n",
    "        \n",
    "        if child1_dist < child2_dist:\n",
    "            query_ball_tree(target_vect, k, queue, child1)\n",
    "            query_ball_tree(target_vect, k, queue, child2)\n",
    "        else:\n",
    "            query_ball_tree(target_vect, k, queue, child2)\n",
    "            query_ball_tree(target_vect, k, queue, child1)\n",
    "        \n",
    "        \n",
    "test_point = np.array([1, -1])[np.newaxis, :]        \n",
    "\n",
    "k_size = 3\n",
    "\n",
    "queue = []\n",
    "for i in range(k_size):\n",
    "    queue.append((-9999999999999, np.random.randint(9999999999999) ,np.array([9999999999999, 9999999999999])))\n",
    "    #heapq.heappush(queue, (-1*np.asscalar(euclidean(test_point, sample_data[i, :][np.newaxis, :])) ,sample_data[i, :]))\n",
    "\n",
    "query_ball_tree(test_point , k_size, queue, tree)"
   ]
  },
  {
   "cell_type": "code",
   "execution_count": 298,
   "metadata": {
    "collapsed": false
   },
   "outputs": [
    {
     "name": "stdout",
     "output_type": "stream",
     "text": [
      "171 ms ± 1.12 ms per loop (mean ± std. dev. of 7 runs, 10 loops each)\n",
      "1.36 ms ± 13.9 µs per loop (mean ± std. dev. of 7 runs, 1000 loops each)\n",
      "58.3 µs ± 538 ns per loop (mean ± std. dev. of 7 runs, 10000 loops each)\n"
     ]
    }
   ],
   "source": [
    "group_1 = np.random.randint(2, 10, (1000, 2))\n",
    "group_2 = np.random.randint(-10, -2, (1000, 2))\n",
    "rand_data = np.vstack((group_1, group_2))\n",
    "%timeit tree = split_tree(rand_data, 3)\n",
    "tree = split_tree(rand_data, 3)\n",
    "%timeit query_ball_tree(test_point , k_size, queue, tree)\n",
    "%timeit test = euclidean(rand_data, test_point)"
   ]
  },
  {
   "cell_type": "code",
   "execution_count": 290,
   "metadata": {
    "collapsed": false
   },
   "outputs": [
    {
     "name": "stdout",
     "output_type": "stream",
     "text": [
      "[(-1, 1, 4), (-1, 2, 4), (1, 1, 3)]\n"
     ]
    }
   ],
   "source": [
    "from collections import Counter\n",
    "\n",
    "class PriorityQueue:\n",
    "    \n",
    "    def __init__(self, is_min_heap=True):\n",
    "        self.queue = []\n",
    "        self.cnt = Counter()\n",
    "        self.is_min_heap = is_min_heap\n",
    "        \n",
    "    def heappush(self, priority, value):\n",
    "        self.cnt[priority] += 1\n",
    "        q_priority = priority if self.is_min_heap  else -1*priority\n",
    "        heapq.heappush(self.queue, (q_priority, self.cnt[priority] , value))\n",
    "    \n",
    "    def heappushpop(self, priority, value):\n",
    "        self.cnt[priority] += 1\n",
    "        q_priority = priority if self.is_min_heap  else -1*priority\n",
    "        heapq.heappushpop(self.queue, (q_priority, self.cnt[priority] , value))\n",
    "        \n",
    "    def heappop(self):\n",
    "        curr_top = heapq.heappop(self.queue)\n",
    "        q_priority = curr_top[0] if self.is_min_heap  else -1*curr_top[0]\n",
    "        return (q_priority, curr_top[2])\n",
    "        \n",
    "    def peektop(self):\n",
    "        curr_top = self.queue[0]\n",
    "        q_priority = curr_top[0] if self.is_min_heap  else -1*curr_top[0]\n",
    "        return (q_priority, curr_top[2])\n",
    "        \n",
    "queue = PriorityQueue(False)\n",
    "queue.heappush(1, 4)\n",
    "queue.heappush(1, 4)\n",
    "queue.heappush(3, 8)\n",
    "queue.heappush(-1, 3)\n",
    "\n",
    "queue.heappushpop(2, 8)\n",
    "queue.heappop()\n",
    "print(queue.queue)"
   ]
  },
  {
   "cell_type": "code",
   "execution_count": 334,
   "metadata": {
    "collapsed": false
   },
   "outputs": [],
   "source": [
    "# As A Function\n",
    "\n",
    "def create_ball_tree(data, leaf_size):\n",
    "    \n",
    "    if data.shape[0] <= leaf_size:\n",
    "        leaf_node = {}\n",
    "        leaf_node[\"center\"] = np.mean(data, axis=0)[np.newaxis, :]\n",
    "        leaf_node[\"radius\"] = np.max(euclidean(data, leaf_node[\"center\"]))\n",
    "        leaf_node[\"data\"] = data\n",
    "        return leaf_node\n",
    "    \n",
    "    # Random Point x0\n",
    "    rand_index = np.random.choice(data.shape[0], 1, replace=False) \n",
    "    rand_point = data[rand_index, :]\n",
    "    \n",
    "    # Find Maximal Point x1\n",
    "    distances = euclidean(data, rand_point)\n",
    "    ind_of_max_dist = np.argmax(distances)\n",
    "    max_vector_1 = data[ind_of_max_dist, :]\n",
    "    \n",
    "    # Find Maximal Point x2\n",
    "    distances = euclidean(data, max_vector_1[np.newaxis, :])\n",
    "    ind_of_max_dist = np.argmax(distances)\n",
    "    max_vector_2 = data[ind_of_max_dist, :]\n",
    "    \n",
    "    # Project Data\n",
    "    proj_data = data.dot(max_vector_1-max_vector_2)\n",
    "    \n",
    "    # Find Median And Split Data\n",
    "    median_ind = np.argpartition(proj_data, proj_data.size//2)\n",
    "    lower_than_med_inds = median_ind[:proj_data.size//2]\n",
    "    greater_than_med_inds = median_ind[proj_data.size//2:]\n",
    "    \n",
    "    # Create Circle\n",
    "    center = np.mean(data, axis=0)\n",
    "    radius = np.max(euclidean(data, center[np.newaxis, :]))\n",
    "    \n",
    "    internal_node = {}\n",
    "    internal_node[\"center\"] = center[np.newaxis, :]\n",
    "    internal_node[\"radius\"] = radius\n",
    "    internal_node[\"left_child\"] = create_ball_tree(data[lower_than_med_inds], leaf_size)\n",
    "    internal_node[\"right_child\"] = create_ball_tree(data[greater_than_med_inds], leaf_size)\n",
    "    \n",
    "    return internal_node\n",
    "\n",
    "\n",
    "def query_ball_tree(target_vect, k, queue, curr_node):\n",
    "    \n",
    "    # Prune This Ball\n",
    "    if euclidean(target_vect, curr_node[\"center\"]) - curr_node[\"radius\"] >= queue.peektop()[0]:\n",
    "        return queue\n",
    "    \n",
    "    # Currently A Leaf Node\n",
    "    if \"data\" in curr_node:\n",
    "        dists = euclidean(target_vect, curr_node[\"data\"])\n",
    "        for i, dist in enumerate(dists):\n",
    "            if dist < queue.peektop()[0]: \n",
    "                queue.heappushpop(dist[0], curr_node[\"data\"][i,:])\n",
    "   \n",
    "    # Not Leaf So Explore Children\n",
    "    else:\n",
    "        #print(\"Non-Pruned Internal Node\")\n",
    "        \n",
    "        child1 = curr_node[\"left_child\"]\n",
    "        child2 = curr_node[\"right_child\"]\n",
    "        \n",
    "        child1_dist = euclidean(child1[\"center\"], target_vect)\n",
    "        child2_dist = euclidean(child2[\"center\"], target_vect)\n",
    "        \n",
    "        if child1_dist < child2_dist:\n",
    "            query_ball_tree(target_vect, k, queue, child1)\n",
    "            query_ball_tree(target_vect, k, queue, child2)\n",
    "        else:\n",
    "            query_ball_tree(target_vect, k, queue, child2)\n",
    "            query_ball_tree(target_vect, k, queue, child1)\n",
    "            "
   ]
  },
  {
   "cell_type": "code",
   "execution_count": 323,
   "metadata": {
    "collapsed": false
   },
   "outputs": [
    {
     "name": "stdout",
     "output_type": "stream",
     "text": [
      "[(-8.602325267042627, 1, array([-4, -8])), (-7.211102550927978, 1, array([5, 5])), (-3.1622776601683795, 1, array([ 4, -2])), (-2.8284271247461903, 1, array([-1, -3])), (-7.0, 1, array([-6, -1]))]\n"
     ]
    }
   ],
   "source": [
    "tree = create_ball_tree(sample_data, 2)\n",
    "\n",
    "test_point = np.array([1, -1])[np.newaxis, :]        \n",
    "\n",
    "k_size = 5\n",
    "\n",
    "queue = PriorityQueue(False)\n",
    "for i in range(k_size):\n",
    "    queue.heappush(9999999999999 ,np.array([9999999999999, 9999999999999]))\n",
    "\n",
    "query_ball_tree(test_point , k_size, queue, tree)\n",
    "print(queue.queue)"
   ]
  },
  {
   "cell_type": "code",
   "execution_count": 346,
   "metadata": {
    "collapsed": false
   },
   "outputs": [
    {
     "name": "stdout",
     "output_type": "stream",
     "text": [
      "326 ns ± 3.9 ns per loop (mean ± std. dev. of 7 runs, 1000000 loops each)\n",
      "54.1 ms ± 1.26 ms per loop (mean ± std. dev. of 7 runs, 10 loops each)\n",
      "2.29 ms ± 18.6 µs per loop (mean ± std. dev. of 7 runs, 100 loops each)\n",
      "32.4 ms ± 375 µs per loop (mean ± std. dev. of 7 runs, 10 loops each)\n"
     ]
    }
   ],
   "source": [
    "# Load Data\n",
    "mnist_data = np.load('./sample_data/mnist/mnist_data.npz')\n",
    "train_data = mnist_data['train_data']\n",
    "test_data = mnist_data['test_data']\n",
    "\n",
    "# Subset Data If Desired\n",
    "test_labels = test_data[:1, 0]\n",
    "test_data = test_data[:1, 1:].astype(np.float)\n",
    "train_labels = train_data[:1000, 0]\n",
    "train_data = train_data[:1000, 1:].astype(np.float)\n",
    "\n",
    "from knn.k_nearest_neighbors import KNNClassification\n",
    "knn1 = KNNClassification(k=5, metric=\"euclidean\")\n",
    "%timeit knn1.train(train_labels, train_data)\n",
    "knn2 = KNNClassification(k=5, metric=\"euclidean\", tree=True, tree_leaf_size=25)\n",
    "%timeit knn2.train(train_labels, train_data)\n",
    "\n",
    "\n",
    "%timeit predictions = knn1.predict(test_data)\n",
    "%timeit predictions = knn2.predict(test_data)"
   ]
  },
  {
   "cell_type": "code",
   "execution_count": null,
   "metadata": {
    "collapsed": true
   },
   "outputs": [],
   "source": []
  }
 ],
 "metadata": {
  "kernelspec": {
   "display_name": "knn_env_Python_3",
   "language": "python",
   "name": "knn_env_python_3"
  },
  "language_info": {
   "codemirror_mode": {
    "name": "ipython",
    "version": 3
   },
   "file_extension": ".py",
   "mimetype": "text/x-python",
   "name": "python",
   "nbconvert_exporter": "python",
   "pygments_lexer": "ipython3",
   "version": "3.5.2"
  }
 },
 "nbformat": 4,
 "nbformat_minor": 0
}
