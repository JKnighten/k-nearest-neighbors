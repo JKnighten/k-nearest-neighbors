{
 "cells": [
  {
   "cell_type": "code",
   "execution_count": 1,
   "metadata": {
    "collapsed": true
   },
   "outputs": [],
   "source": [
    "%load_ext Cython\n",
    "%load_ext memory_profiler"
   ]
  },
  {
   "cell_type": "code",
   "execution_count": 2,
   "metadata": {
    "collapsed": true
   },
   "outputs": [],
   "source": [
    "# Change Working Directory To Allow knn Imports\n",
    "import os \n",
    "os.chdir('../')"
   ]
  },
  {
   "cell_type": "code",
   "execution_count": 93,
   "metadata": {
    "collapsed": false
   },
   "outputs": [
    {
     "name": "stderr",
     "output_type": "stream",
     "text": [
      "\n",
      "Error compiling Cython file:\n",
      "------------------------------------------------------------\n",
      "...\n",
      "    float\n",
      "    double\n",
      "\n",
      "cdef class BallTree:\n",
      "    \n",
      "    cdef int_or_float[:, ::1] data_view\n",
      "        ^\n",
      "------------------------------------------------------------\n",
      "\n",
      "/Users/Johnny/.ipython/cython/_cython_magic_11a69c8017e2aced1e2bff304937badf.pyx:18:9: Fused types not allowed here\n",
      "\n",
      "Error compiling Cython file:\n",
      "------------------------------------------------------------\n",
      "...\n",
      "    cdef int_or_float[:, ::1] data_view\n",
      "    cdef long[::1] data_inds_view\n",
      "    cdef np.ndarray data\n",
      "    cdef np.ndarray data_inds\n",
      "    \n",
      "    cdef int_or_float[:,::1] query_data_view \n",
      "        ^\n",
      "------------------------------------------------------------\n",
      "\n",
      "/Users/Johnny/.ipython/cython/_cython_magic_11a69c8017e2aced1e2bff304937badf.pyx:23:9: Fused types not allowed here\n"
     ]
    },
    {
     "ename": "TypeError",
     "evalue": "object of type 'NoneType' has no len()",
     "output_type": "error",
     "traceback": [
      "\u001b[0;31m---------------------------------------------------------------------------\u001b[0m",
      "\u001b[0;31mTypeError\u001b[0m                                 Traceback (most recent call last)",
      "\u001b[0;32m<ipython-input-93-b449575cfb7d>\u001b[0m in \u001b[0;36m<module>\u001b[0;34m()\u001b[0m\n\u001b[0;32m----> 1\u001b[0;31m \u001b[0mget_ipython\u001b[0m\u001b[0;34m(\u001b[0m\u001b[0;34m)\u001b[0m\u001b[0;34m.\u001b[0m\u001b[0mrun_cell_magic\u001b[0m\u001b[0;34m(\u001b[0m\u001b[0;34m'cython'\u001b[0m\u001b[0;34m,\u001b[0m \u001b[0;34m'-a'\u001b[0m\u001b[0;34m,\u001b[0m \u001b[0;34m'import cython\\nimport numpy as np\\ncimport numpy as np\\nimport math\\nfrom libcpp cimport bool\\nfrom libc.math cimport sqrt\\nfrom knn.distance_metrics import euclidean\\n\\nctypedef fused int_or_float:\\n    short\\n    int\\n    long\\n    float\\n    double\\n\\ncdef class BallTree:\\n    \\n    cdef int_or_float[:, ::1] data_view\\n    cdef long[::1] data_inds_view\\n    cdef np.ndarray data\\n    cdef np.ndarray data_inds\\n    \\n    cdef int_or_float[:,::1] query_data_view \\n    \\n    cdef np.ndarray node_data_inds\\n    cdef np.ndarray node_radius\\n    cdef np.ndarray node_is_leaf\\n    cdef np.ndarray node_center\\n    cdef long[:,::1] node_data_inds_view\\n    cdef double[::1] node_radius_view\\n    cdef double[::1] node_is_leaf_view\\n    cdef double[:,::1] node_center_view\\n    \\n    cdef int leaf_size\\n    cdef int node_count\\n    cdef int tree_height\\n    \\n    \\n    cdef public np.ndarray heap\\n    cdef double[:,::1] heap_view\\n    cdef public np.ndarray heap_inds\\n    cdef long[:,::1] heap_inds_view\\n    \\n    def __init__(self, data, leaf_size):\\n        \\n        # Data\\n        self.data = np.asarray(data, dtype=np.float, order=\\'C\\')\\n        self.data_view = memoryview(self.data)\\n        self.data_inds = np.arange(data.shape[0], dtype=np.int)\\n        self.data_inds_view = memoryview(self.data_inds)\\n        \\n        \\n        \\n        \\n        # Tree Shape\\n        self.leaf_size = leaf_size\\n        leaf_count = self.data.shape[0] / leaf_size\\n        self.tree_height = math.ceil(np.log2(leaf_count)) + 1\\n        self.node_count = int(2 ** self.tree_height) - 1 \\n        \\n        print(\"Leaf Count: \" + str(leaf_count))\\n        print(\"Tree Height: \" + str(self.tree_height))\\n        print(\"Node Count: \" + str(self.node_count))\\n        \\n        # Node Data\\n        self.node_data_inds = np.zeros((self.node_count, 2), dtype=np.int, order=\\'C\\')\\n        self.node_radius = np.zeros(self.node_count, order=\\'C\\')\\n        self.node_is_leaf = np.zeros(self.node_count, order=\\'C\\')\\n        self.node_center = np.zeros((self.node_count, data.shape[1]), order=\\'C\\')\\n        self.node_data_inds_view = memoryview(self.node_data_inds)\\n        self.node_radius_view = memoryview(self.node_radius)\\n        self.node_is_leaf_view = memoryview(self.node_is_leaf)\\n        self.node_center_view = memoryview(self.node_center)\\n        \\n        \\n    def build_tree(self):\\n        self._build(0, 0, self.data.shape[0]-1)\\n    \\n    \\n    def _build(self, long node_index, long node_data_start, long node_data_end):\\n        #print(\"Node Index: \" + str(node_index))\\n        #print(\"Node Data Start: \" + str(node_data_start))\\n        #print(\"Node Data End: \" + str(node_data_end))\\n        \\n        # Current Node Is A Leaf\\n        if (node_data_end-node_data_start+1) <= self.leaf_size:\\n            #print(\"Leaf Node\")\\n            \\n            self.node_center[node_index] = np.mean(self.data[self.data_inds[node_data_start:node_data_end+1]], axis=0)\\n            #print(\"Node Center:\" + str(np.asarray(self.node_center[node_index,:])))\\n        \\n            self.node_radius[node_index] = np.max(euclidean(self.data[self.data_inds[node_data_start:node_data_end+1]], \\n                                                            self.node_center[node_index,  :][np.newaxis, :]))\\n            #print(\"Radius: \" + str(self.node_radius[node_index]))\\n            \\n            self.node_data_inds[node_index, 0] = node_data_start\\n            self.node_data_inds[node_index, 1] = node_data_end\\n            \\n            self.node_is_leaf[node_index] = True\\n            return None\\n        \\n        # Current Node Is Internal Node\\n        #print(\"Internal Node\")\\n        \\n        # Random Point x0\\n        \\n        rand_index = np.random.choice(node_data_end-node_data_start+1, 1, replace=False)\\n        rand_point = self.data[self.data_inds[rand_index], :]\\n        \\n        #print(rand_point)\\n        \\n        # Find Maximal Point x1\\n        distances = euclidean(self.data[self.data_inds[node_data_start:node_data_end+1]], rand_point)\\n        ind_of_max_dist = np.argmax(distances)\\n        max_vector_1 = self.data[ind_of_max_dist]\\n        #print(max_vector_1)\\n        \\n        \\n        \\n\\n        # Find Maximal Point x2\\n        distances = euclidean(self.data[self.data_inds[node_data_start:node_data_end+1]], max_vector_1[np.newaxis, :])\\n        ind_of_max_dist = np.argmax(distances)\\n        max_vector_2 = self.data[ind_of_max_dist]\\n        #print(max_vector_2)\\n        \\n        \\n        # Project Data\\n        proj_data = np.dot(self.data[self.data_inds[node_data_start:node_data_end+1]], max_vector_1-max_vector_2)\\n        \\n        #print(proj_data)\\n        \\n        # Find Median And Split Data\\n        median = np.partition(proj_data, proj_data.size//2)[proj_data.size//2]\\n        #print(median)\\n        \\n        #print(\"Here?\")\\n        \\n        \\n        # Hoare Partitioning\\n        low = node_data_start\\n        high = node_data_end\\n        pivot = median\\n        \\n        #print(low)\\n        #print(high)\\n        #print(proj_data.shape)\\n        \\n                \\n        self._hoare_partition(pivot, low, high, proj_data)\\n        \\n        #print(proj_data)\\n        #print(self.data_inds)\\n        \\n        \\n        # Create Circle\\n        center = np.mean(self.data[self.data_inds[node_data_start:node_data_end+1]], axis=0)\\n        radius = np.max(euclidean(self.data[self.data_inds[node_data_start:node_data_end+1]], center[np.newaxis, :]))\\n        #print(center)\\n        #print(radius)\\n        #print(self.data[self.data_inds[node_data_start:node_data_end+1]])\\n        \\n        self.node_data_inds[node_index, 0] = node_data_start\\n        self.node_data_inds[node_index, 1] = node_data_end\\n        \\n        self.node_radius[node_index] = radius\\n        self.node_center[node_index] = center\\n        \\n        left_index = 2 * node_index + 1\\n        right_index = left_index + 1\\n        \\n        self.node_is_leaf[node_index] = False\\n        \\n        \\n        self._build(left_index, node_data_start,  node_data_start+ (proj_data.size//2)-1 )\\n        self._build(right_index, node_data_start+(proj_data.size//2),   node_data_end)\\n        \\n        \\n    cdef int _hoare_partition(self, pivot, low, high, projected_data):\\n        \\n        i = low - 1\\n        j = high + 1\\n        i2 = -1\\n        j2 = projected_data.shape[0]\\n        \\n        while True:\\n        \\n            # Scan From Left To Find Value Greater Than Pivot \\n            condition = True\\n            while condition:\\n                i += 1\\n                i2 += 1\\n                condition = projected_data[i2] < pivot\\n            \\n            # Scan From Right To Find Value Less Than Pivot \\n            condition = True\\n            while(condition):\\n                j -= 1\\n                j2 -= 1\\n                condition = projected_data[j2] > pivot\\n\\n            # Time To End Algorithm\\n            if (i >= j):\\n                return j \\n            \\n            # Swap Values\\n            projected_data[i2], projected_data[j2] = projected_data[j2], projected_data[i2]\\n            self.data_inds[i], self.data_inds[j] = self.data_inds[j], self.data_inds[i]\\n            \\n    @cython.boundscheck(False)\\n    @cython.wraparound(False)  \\n    @cython.initializedcheck(False)\\n    cdef inline double _euclid(self, double[::1] vector1, double[::1] vector2):\\n\\n        cdef double distance = 0.0\\n        cdef int dims = vector1.shape[0]\\n        cdef double temp\\n        cdef size_t i\\n\\n        \\n        for i in range(0, dims):\\n            temp = vector1[i] - vector2[i]\\n            distance += (temp*temp)\\n\\n        return sqrt(distance)\\n            \\n            \\n    @cython.boundscheck(False)\\n    @cython.wraparound(False) \\n    @cython.initializedcheck(False)\\n    def query(self, query_data, k):\\n        \\n        cdef size_t i\\n        cdef double[::1] query_vector\\n        cdef double[::1] initial_center\\n        \\n        self.heap = np.full((query_data.shape[0], k), np.inf, order=\\'C\\')\\n        self.heap_view = memoryview(self.heap)\\n        self.heap_inds = np.zeros((query_data.shape[0], k), dtype=np.int, order=\\'C\\')\\n        self.heap_inds_view = memoryview(self.heap_inds)\\n        \\n        self.query_data_view = memoryview(query_data)\\n        \\n        #inds = 0\\n#         dist = self.euclid(self.node_center_view[0], self.query_data_view[0, :])\\n#         self._query(0, dist, 0, self.query_data_view[0, :])\\n\\n        initial_center = self.node_center_view[0]\\n        cdef int numb_query_vectors = query_data.shape[0]\\n        cdef double dist\\n        for i in range(0, numb_query_vectors):\\n            query_vector = self.query_data_view[i]\\n            dist = self._euclid(initial_center, query_vector)\\n            self._query(i, dist, 0, query_vector)\\n        \\n    \\n\\n    \\n        return None\\n    \\n    @cython.boundscheck(False)\\n    @cython.wraparound(False)  \\n    @cython.initializedcheck(False)\\n    cdef int _query(self, size_t query_vect_ind, double dist_to_cent, size_t curr_node, double[::1] query_data):\\n        \\n        cdef size_t i, child1, child2, lower_index, upper_index, curr_index\\n        cdef double child1_dist, child2_dist, dist\\n        cdef double[::1] curr_vect, child1_center, child2_center\\n\\n        # Prune This Ball\\n        if dist_to_cent - self.node_radius_view[curr_node] >= self._heap_peek_head(query_vect_ind):\\n            return 0\\n\\n        # Currently A Leaf Node\\n        if self.node_is_leaf_view[curr_node]:\\n            lower_index = self.node_data_inds_view[curr_node][0]\\n            upper_index = self.node_data_inds_view[curr_node][1] + 1\\n            for i in range(lower_index, upper_index):\\n                curr_index = self.data_inds_view[i]\\n                curr_vect = self.data_view[curr_index]\\n                dist = self._euclid(curr_vect, query_data) \\n                if dist < self._heap_peek_head(query_vect_ind):\\n                    self._heap_pop_push(query_vect_ind, dist, self.data_inds_view[i])\\n\\n        # Not Leaf So Explore Children\\n        else:\\n            child1 = 2 * curr_node + 1\\n            child2 = child1 + 1\\n            \\n            child1_center = self.node_center_view[child1]\\n            child2_center = self.node_center_view[child2]\\n\\n            child1_dist = self._euclid(child1_center, query_data)\\n            child2_dist = self._euclid(child2_center, query_data)\\n\\n            if child1_dist < child2_dist:\\n                self._query(query_vect_ind, child1_dist, child1, query_data)\\n                self._query(query_vect_ind, child2_dist, child2, query_data)\\n            else:\\n                self._query(query_vect_ind, child2_dist, child2, query_data)\\n                self._query(query_vect_ind, child1_dist, child1, query_data)\\n                \\n        return 0\\n    \\n    @cython.initializedcheck(False)\\n    @cython.boundscheck(False)\\n    cdef inline double _heap_peek_head(self, size_t level):\\n        return self.heap_view[level, 0]\\n    \\n    \\n    @cython.boundscheck(False)\\n    @cython.wraparound(False) \\n    @cython.initializedcheck(False)\\n    cdef int _heap_pop_push(self, int level, double value, int index):\\n        \\n        # Put New Value At Head And Remove Old Value\\n        self.heap_view[level, 0] = value\\n        self.heap_inds_view[level, 0] = index\\n        \\n        # Update Heap Structure\\n        cdef int left_ind, right_ind\\n        \\n        cdef int i\\n        \\n        cdef double temp_value\\n        cdef int temp_index\\n        \\n        i = 0\\n        while(True):\\n            left_ind = 2 * i + 1\\n            right_ind = left_ind + 1\\n            \\n            # Catch Edge Of Array\\n            if left_ind >= self.heap.shape[1]:\\n                break\\n            elif right_ind >= self.heap.shape[1]:\\n                if self.heap_view[level, left_ind] > self.heap_view[level, i]:\\n                    temp_value = self.heap_view[level, i]\\n                    self.heap_view[level, i] = self.heap_view[level, left_ind]\\n                    self.heap_view[level, left_ind] = temp_value\\n#                     self.heap[level, i] = self.heap_view[level, left_ind]\\n#                     self.heap[level, left_ind] = temp_value\\n                    \\n                    temp_index = self.heap_inds_view[level, i]\\n                    self.heap_inds_view[level, i] = self.heap_inds_view[level, left_ind]\\n                    self.heap_inds_view[level, left_ind] = temp_index\\n#                     self.heap_inds[level, i] = self.heap_inds_view[level, left_ind]\\n#                     self.heap_inds[level, left_ind] = temp_index\\n                    \\n\\n                    \\n                break\\n                \\n            # Determine If We Should Explore Left or Right\\n            \\n            if self.heap_view[level, left_ind] > self.heap_view[level, right_ind]:\\n                if self.heap_view[level, left_ind] > self.heap_view[level, i]:\\n                    temp_value = self.heap_view[level, i]\\n                    self.heap_view[level, i] = self.heap_view[level, left_ind]\\n                    self.heap_view[level, left_ind] = temp_value\\n#                     self.heap[level, i] = self.heap_view[level, left_ind]\\n#                     self.heap[level, left_ind] = temp_value\\n                    \\n                    temp_index = self.heap_inds_view[level, i]\\n                    self.heap_inds_view[level, i] = self.heap_inds_view[level, left_ind]\\n                    self.heap_inds_view[level, left_ind] = temp_index\\n#                     self.heap_inds[level, i] = self.heap_inds_view[level, left_ind]\\n#                     self.heap_inds[level, left_ind] = temp_index\\n                    i = left_ind\\n                else:\\n                    break\\n            \\n            else:\\n                if self.heap_view[level, right_ind] > self.heap_view[level, i]:\\n                    temp_value = self.heap_view[level, i]\\n                    self.heap_view[level, i] = self.heap_view[level, right_ind]\\n                    self.heap_view[level, right_ind] = temp_value\\n                    \\n#                     self.heap[level, i] = self.heap_view[level, right_ind]\\n#                     self.heap[level, right_ind] = temp_value\\n                    \\n                    temp_index = self.heap_inds_view[level, i]\\n                    self.heap_inds_view[level, i] = self.heap_inds_view[level, right_ind]\\n                    self.heap_inds_view[level, right_ind] = temp_index\\n                    \\n                    \\n#                     self.heap_inds[level, i] = self.heap_inds_view[level, right_ind]\\n#                     self.heap_inds[level, right_ind] = temp_index\\n                    i = right_ind\\n                else:\\n                    break\\n        \\n        return 0\\n    \\n    \\n    \\n            '\u001b[0m\u001b[0;34m)\u001b[0m\u001b[0;34m\u001b[0m\u001b[0m\n\u001b[0m",
      "\u001b[0;32m~/Code/k-nearest-neighbors/knn_env/lib/python3.5/site-packages/IPython/core/interactiveshell.py\u001b[0m in \u001b[0;36mrun_cell_magic\u001b[0;34m(self, magic_name, line, cell)\u001b[0m\n\u001b[1;32m   2165\u001b[0m             \u001b[0mmagic_arg_s\u001b[0m \u001b[0;34m=\u001b[0m \u001b[0mself\u001b[0m\u001b[0;34m.\u001b[0m\u001b[0mvar_expand\u001b[0m\u001b[0;34m(\u001b[0m\u001b[0mline\u001b[0m\u001b[0;34m,\u001b[0m \u001b[0mstack_depth\u001b[0m\u001b[0;34m)\u001b[0m\u001b[0;34m\u001b[0m\u001b[0m\n\u001b[1;32m   2166\u001b[0m             \u001b[0;32mwith\u001b[0m \u001b[0mself\u001b[0m\u001b[0;34m.\u001b[0m\u001b[0mbuiltin_trap\u001b[0m\u001b[0;34m:\u001b[0m\u001b[0;34m\u001b[0m\u001b[0m\n\u001b[0;32m-> 2167\u001b[0;31m                 \u001b[0mresult\u001b[0m \u001b[0;34m=\u001b[0m \u001b[0mfn\u001b[0m\u001b[0;34m(\u001b[0m\u001b[0mmagic_arg_s\u001b[0m\u001b[0;34m,\u001b[0m \u001b[0mcell\u001b[0m\u001b[0;34m)\u001b[0m\u001b[0;34m\u001b[0m\u001b[0m\n\u001b[0m\u001b[1;32m   2168\u001b[0m             \u001b[0;32mreturn\u001b[0m \u001b[0mresult\u001b[0m\u001b[0;34m\u001b[0m\u001b[0m\n\u001b[1;32m   2169\u001b[0m \u001b[0;34m\u001b[0m\u001b[0m\n",
      "\u001b[0;32m<decorator-gen-127>\u001b[0m in \u001b[0;36mcython\u001b[0;34m(self, line, cell)\u001b[0m\n",
      "\u001b[0;32m~/Code/k-nearest-neighbors/knn_env/lib/python3.5/site-packages/IPython/core/magic.py\u001b[0m in \u001b[0;36m<lambda>\u001b[0;34m(f, *a, **k)\u001b[0m\n\u001b[1;32m    185\u001b[0m     \u001b[0;31m# but it's overkill for just that one bit of state.\u001b[0m\u001b[0;34m\u001b[0m\u001b[0;34m\u001b[0m\u001b[0m\n\u001b[1;32m    186\u001b[0m     \u001b[0;32mdef\u001b[0m \u001b[0mmagic_deco\u001b[0m\u001b[0;34m(\u001b[0m\u001b[0marg\u001b[0m\u001b[0;34m)\u001b[0m\u001b[0;34m:\u001b[0m\u001b[0;34m\u001b[0m\u001b[0m\n\u001b[0;32m--> 187\u001b[0;31m         \u001b[0mcall\u001b[0m \u001b[0;34m=\u001b[0m \u001b[0;32mlambda\u001b[0m \u001b[0mf\u001b[0m\u001b[0;34m,\u001b[0m \u001b[0;34m*\u001b[0m\u001b[0ma\u001b[0m\u001b[0;34m,\u001b[0m \u001b[0;34m**\u001b[0m\u001b[0mk\u001b[0m\u001b[0;34m:\u001b[0m \u001b[0mf\u001b[0m\u001b[0;34m(\u001b[0m\u001b[0;34m*\u001b[0m\u001b[0ma\u001b[0m\u001b[0;34m,\u001b[0m \u001b[0;34m**\u001b[0m\u001b[0mk\u001b[0m\u001b[0;34m)\u001b[0m\u001b[0;34m\u001b[0m\u001b[0m\n\u001b[0m\u001b[1;32m    188\u001b[0m \u001b[0;34m\u001b[0m\u001b[0m\n\u001b[1;32m    189\u001b[0m         \u001b[0;32mif\u001b[0m \u001b[0mcallable\u001b[0m\u001b[0;34m(\u001b[0m\u001b[0marg\u001b[0m\u001b[0;34m)\u001b[0m\u001b[0;34m:\u001b[0m\u001b[0;34m\u001b[0m\u001b[0m\n",
      "\u001b[0;32m~/Code/k-nearest-neighbors/knn_env/lib/python3.5/site-packages/Cython/Build/IpythonMagic.py\u001b[0m in \u001b[0;36mcython\u001b[0;34m(self, line, cell)\u001b[0m\n\u001b[1;32m    319\u001b[0m         \u001b[0;32mif\u001b[0m \u001b[0mneed_cythonize\u001b[0m\u001b[0;34m:\u001b[0m\u001b[0;34m\u001b[0m\u001b[0m\n\u001b[1;32m    320\u001b[0m             \u001b[0mextensions\u001b[0m \u001b[0;34m=\u001b[0m \u001b[0mself\u001b[0m\u001b[0;34m.\u001b[0m\u001b[0m_cythonize\u001b[0m\u001b[0;34m(\u001b[0m\u001b[0mmodule_name\u001b[0m\u001b[0;34m,\u001b[0m \u001b[0mcode\u001b[0m\u001b[0;34m,\u001b[0m \u001b[0mlib_dir\u001b[0m\u001b[0;34m,\u001b[0m \u001b[0margs\u001b[0m\u001b[0;34m,\u001b[0m \u001b[0mquiet\u001b[0m\u001b[0;34m=\u001b[0m\u001b[0margs\u001b[0m\u001b[0;34m.\u001b[0m\u001b[0mquiet\u001b[0m\u001b[0;34m)\u001b[0m\u001b[0;34m\u001b[0m\u001b[0m\n\u001b[0;32m--> 321\u001b[0;31m             \u001b[0;32massert\u001b[0m \u001b[0mlen\u001b[0m\u001b[0;34m(\u001b[0m\u001b[0mextensions\u001b[0m\u001b[0;34m)\u001b[0m \u001b[0;34m==\u001b[0m \u001b[0;36m1\u001b[0m\u001b[0;34m\u001b[0m\u001b[0m\n\u001b[0m\u001b[1;32m    322\u001b[0m             \u001b[0mextension\u001b[0m \u001b[0;34m=\u001b[0m \u001b[0mextensions\u001b[0m\u001b[0;34m[\u001b[0m\u001b[0;36m0\u001b[0m\u001b[0;34m]\u001b[0m\u001b[0;34m\u001b[0m\u001b[0m\n\u001b[1;32m    323\u001b[0m             \u001b[0mself\u001b[0m\u001b[0;34m.\u001b[0m\u001b[0m_code_cache\u001b[0m\u001b[0;34m[\u001b[0m\u001b[0mkey\u001b[0m\u001b[0;34m]\u001b[0m \u001b[0;34m=\u001b[0m \u001b[0mmodule_name\u001b[0m\u001b[0;34m\u001b[0m\u001b[0m\n",
      "\u001b[0;31mTypeError\u001b[0m: object of type 'NoneType' has no len()"
     ]
    }
   ],
   "source": [
    "%%cython -a\n",
    "import cython\n",
    "import numpy as np\n",
    "cimport numpy as np\n",
    "import math\n",
    "from libcpp cimport bool\n",
    "from libc.math cimport sqrt\n",
    "from knn.distance_metrics import euclidean\n",
    "\n",
    "ctypedef fused int_or_float:\n",
    "    short\n",
    "    int\n",
    "    long\n",
    "    float\n",
    "    double\n",
    "    \n",
    "\n",
    "cdef class BallTree:\n",
    "    \n",
    "    cdef double[:, ::1] data_view\n",
    "    cdef long[::1] data_inds_view\n",
    "    cdef np.ndarray data\n",
    "    cdef np.ndarray data_inds\n",
    "    \n",
    "    cdef double[:,::1] query_data_view \n",
    "    \n",
    "    cdef np.ndarray node_data_inds\n",
    "    cdef np.ndarray node_radius\n",
    "    cdef np.ndarray node_is_leaf\n",
    "    cdef np.ndarray node_center\n",
    "    cdef long[:,::1] node_data_inds_view\n",
    "    cdef double[::1] node_radius_view\n",
    "    cdef double[::1] node_is_leaf_view\n",
    "    cdef double[:,::1] node_center_view\n",
    "    \n",
    "    cdef int leaf_size\n",
    "    cdef int node_count\n",
    "    cdef int tree_height\n",
    "    \n",
    "    \n",
    "    cdef public np.ndarray heap\n",
    "    cdef double[:,::1] heap_view\n",
    "    cdef public np.ndarray heap_inds\n",
    "    cdef long[:,::1] heap_inds_view\n",
    "    \n",
    "    def __init__(self, data, leaf_size):\n",
    "        \n",
    "        # Data\n",
    "        self.data = np.asarray(data, dtype=np.float, order='C')\n",
    "        self.data_view = memoryview(self.data)\n",
    "        self.data_inds = np.arange(data.shape[0], dtype=np.int)\n",
    "        self.data_inds_view = memoryview(self.data_inds)\n",
    "        \n",
    "        \n",
    "        \n",
    "        \n",
    "        # Tree Shape\n",
    "        self.leaf_size = leaf_size\n",
    "        leaf_count = self.data.shape[0] / leaf_size\n",
    "        self.tree_height = math.ceil(np.log2(leaf_count)) + 1\n",
    "        self.node_count = int(2 ** self.tree_height) - 1 \n",
    "        \n",
    "        print(\"Leaf Count: \" + str(leaf_count))\n",
    "        print(\"Tree Height: \" + str(self.tree_height))\n",
    "        print(\"Node Count: \" + str(self.node_count))\n",
    "        \n",
    "        # Node Data\n",
    "        self.node_data_inds = np.zeros((self.node_count, 2), dtype=np.int, order='C')\n",
    "        self.node_radius = np.zeros(self.node_count, order='C')\n",
    "        self.node_is_leaf = np.zeros(self.node_count, order='C')\n",
    "        self.node_center = np.zeros((self.node_count, data.shape[1]), order='C')\n",
    "        self.node_data_inds_view = memoryview(self.node_data_inds)\n",
    "        self.node_radius_view = memoryview(self.node_radius)\n",
    "        self.node_is_leaf_view = memoryview(self.node_is_leaf)\n",
    "        self.node_center_view = memoryview(self.node_center)\n",
    "        \n",
    "        \n",
    "    def build_tree(self):\n",
    "        self._build(0, 0, self.data.shape[0]-1)\n",
    "    \n",
    "    \n",
    "    def _build(self, long node_index, long node_data_start, long node_data_end):\n",
    "        #print(\"Node Index: \" + str(node_index))\n",
    "        #print(\"Node Data Start: \" + str(node_data_start))\n",
    "        #print(\"Node Data End: \" + str(node_data_end))\n",
    "        \n",
    "        # Current Node Is A Leaf\n",
    "        if (node_data_end-node_data_start+1) <= self.leaf_size:\n",
    "            #print(\"Leaf Node\")\n",
    "            \n",
    "            self.node_center[node_index] = np.mean(self.data[self.data_inds[node_data_start:node_data_end+1]], axis=0)\n",
    "            #print(\"Node Center:\" + str(np.asarray(self.node_center[node_index,:])))\n",
    "        \n",
    "            self.node_radius[node_index] = np.max(euclidean(self.data[self.data_inds[node_data_start:node_data_end+1]], \n",
    "                                                            self.node_center[node_index,  :][np.newaxis, :]))\n",
    "            #print(\"Radius: \" + str(self.node_radius[node_index]))\n",
    "            \n",
    "            self.node_data_inds[node_index, 0] = node_data_start\n",
    "            self.node_data_inds[node_index, 1] = node_data_end\n",
    "            \n",
    "            self.node_is_leaf[node_index] = True\n",
    "            return None\n",
    "        \n",
    "        # Current Node Is Internal Node\n",
    "        #print(\"Internal Node\")\n",
    "        \n",
    "        # Random Point x0\n",
    "        \n",
    "        rand_index = np.random.choice(node_data_end-node_data_start+1, 1, replace=False)\n",
    "        rand_point = self.data[self.data_inds[rand_index], :]\n",
    "        \n",
    "        #print(rand_point)\n",
    "        \n",
    "        # Find Maximal Point x1\n",
    "        distances = euclidean(self.data[self.data_inds[node_data_start:node_data_end+1]], rand_point)\n",
    "        ind_of_max_dist = np.argmax(distances)\n",
    "        max_vector_1 = self.data[ind_of_max_dist]\n",
    "        #print(max_vector_1)\n",
    "        \n",
    "        \n",
    "        \n",
    "\n",
    "        # Find Maximal Point x2\n",
    "        distances = euclidean(self.data[self.data_inds[node_data_start:node_data_end+1]], max_vector_1[np.newaxis, :])\n",
    "        ind_of_max_dist = np.argmax(distances)\n",
    "        max_vector_2 = self.data[ind_of_max_dist]\n",
    "        #print(max_vector_2)\n",
    "        \n",
    "        \n",
    "        # Project Data\n",
    "        proj_data = np.dot(self.data[self.data_inds[node_data_start:node_data_end+1]], max_vector_1-max_vector_2)\n",
    "        \n",
    "        #print(proj_data)\n",
    "        \n",
    "        # Find Median And Split Data\n",
    "        median = np.partition(proj_data, proj_data.size//2)[proj_data.size//2]\n",
    "        #print(median)\n",
    "        \n",
    "        #print(\"Here?\")\n",
    "        \n",
    "        \n",
    "        # Hoare Partitioning\n",
    "        low = node_data_start\n",
    "        high = node_data_end\n",
    "        pivot = median\n",
    "        \n",
    "        #print(low)\n",
    "        #print(high)\n",
    "        #print(proj_data.shape)\n",
    "        \n",
    "                \n",
    "        self._hoare_partition(pivot, low, high, proj_data)\n",
    "        \n",
    "        #print(proj_data)\n",
    "        #print(self.data_inds)\n",
    "        \n",
    "        \n",
    "        # Create Circle\n",
    "        center = np.mean(self.data[self.data_inds[node_data_start:node_data_end+1]], axis=0)\n",
    "        radius = np.max(euclidean(self.data[self.data_inds[node_data_start:node_data_end+1]], center[np.newaxis, :]))\n",
    "        #print(center)\n",
    "        #print(radius)\n",
    "        #print(self.data[self.data_inds[node_data_start:node_data_end+1]])\n",
    "        \n",
    "        self.node_data_inds[node_index, 0] = node_data_start\n",
    "        self.node_data_inds[node_index, 1] = node_data_end\n",
    "        \n",
    "        self.node_radius[node_index] = radius\n",
    "        self.node_center[node_index] = center\n",
    "        \n",
    "        left_index = 2 * node_index + 1\n",
    "        right_index = left_index + 1\n",
    "        \n",
    "        self.node_is_leaf[node_index] = False\n",
    "        \n",
    "        \n",
    "        self._build(left_index, node_data_start,  node_data_start+ (proj_data.size//2)-1 )\n",
    "        self._build(right_index, node_data_start+(proj_data.size//2),   node_data_end)\n",
    "        \n",
    "        \n",
    "    cdef int _hoare_partition(self, pivot, low, high, projected_data):\n",
    "        \n",
    "        i = low - 1\n",
    "        j = high + 1\n",
    "        i2 = -1\n",
    "        j2 = projected_data.shape[0]\n",
    "        \n",
    "        while True:\n",
    "        \n",
    "            # Scan From Left To Find Value Greater Than Pivot \n",
    "            condition = True\n",
    "            while condition:\n",
    "                i += 1\n",
    "                i2 += 1\n",
    "                condition = projected_data[i2] < pivot\n",
    "            \n",
    "            # Scan From Right To Find Value Less Than Pivot \n",
    "            condition = True\n",
    "            while(condition):\n",
    "                j -= 1\n",
    "                j2 -= 1\n",
    "                condition = projected_data[j2] > pivot\n",
    "\n",
    "            # Time To End Algorithm\n",
    "            if (i >= j):\n",
    "                return j \n",
    "            \n",
    "            # Swap Values\n",
    "            projected_data[i2], projected_data[j2] = projected_data[j2], projected_data[i2]\n",
    "            self.data_inds[i], self.data_inds[j] = self.data_inds[j], self.data_inds[i]\n",
    "            \n",
    "    @cython.boundscheck(False)\n",
    "    @cython.wraparound(False)  \n",
    "    @cython.initializedcheck(False)\n",
    "    cdef inline double _euclid(self, double[::1] vector1, double[::1] vector2):\n",
    "\n",
    "        cdef double distance = 0.0\n",
    "        cdef int dims = vector1.shape[0]\n",
    "        cdef double temp\n",
    "        cdef size_t i\n",
    "\n",
    "        \n",
    "        for i in range(0, dims):\n",
    "            temp = vector1[i] - vector2[i]\n",
    "            distance += (temp*temp)\n",
    "\n",
    "        return sqrt(distance)\n",
    "            \n",
    "            \n",
    "    @cython.boundscheck(False)\n",
    "    @cython.wraparound(False) \n",
    "    @cython.initializedcheck(False)\n",
    "    def query(self, query_data, k):\n",
    "        \n",
    "        cdef size_t i\n",
    "        cdef double[::1] query_vector\n",
    "        cdef double[::1] initial_center\n",
    "        \n",
    "        self.heap = np.full((query_data.shape[0], k), np.inf, order='C')\n",
    "        self.heap_view = memoryview(self.heap)\n",
    "        self.heap_inds = np.zeros((query_data.shape[0], k), dtype=np.int, order='C')\n",
    "        self.heap_inds_view = memoryview(self.heap_inds)\n",
    "        \n",
    "        self.query_data_view = memoryview(query_data)\n",
    "        \n",
    "        #inds = 0\n",
    "#         dist = self.euclid(self.node_center_view[0], self.query_data_view[0, :])\n",
    "#         self._query(0, dist, 0, self.query_data_view[0, :])\n",
    "\n",
    "        initial_center = self.node_center_view[0]\n",
    "        cdef int numb_query_vectors = query_data.shape[0]\n",
    "        cdef double dist\n",
    "        for i in range(0, numb_query_vectors):\n",
    "            query_vector = self.query_data_view[i]\n",
    "            dist = self._euclid(initial_center, query_vector)\n",
    "            self._query(i, dist, 0, query_vector)\n",
    "        \n",
    "    \n",
    "\n",
    "    \n",
    "        return None\n",
    "    \n",
    "    @cython.boundscheck(False)\n",
    "    @cython.wraparound(False)  \n",
    "    @cython.initializedcheck(False)\n",
    "    cdef int _query(self, size_t query_vect_ind, double dist_to_cent, size_t curr_node, double[::1] query_data):\n",
    "        \n",
    "        cdef size_t i, child1, child2, lower_index, upper_index, curr_index\n",
    "        cdef double child1_dist, child2_dist, dist\n",
    "        cdef double[::1] curr_vect, child1_center, child2_center\n",
    "\n",
    "        # Prune This Ball\n",
    "        if dist_to_cent - self.node_radius_view[curr_node] >= self._heap_peek_head(query_vect_ind):\n",
    "            return 0\n",
    "\n",
    "        # Currently A Leaf Node\n",
    "        if self.node_is_leaf_view[curr_node]:\n",
    "            lower_index = self.node_data_inds_view[curr_node][0]\n",
    "            upper_index = self.node_data_inds_view[curr_node][1] + 1\n",
    "            for i in range(lower_index, upper_index):\n",
    "                curr_index = self.data_inds_view[i]\n",
    "                curr_vect = self.data_view[curr_index]\n",
    "                dist = self._euclid(curr_vect, query_data) \n",
    "                if dist < self._heap_peek_head(query_vect_ind):\n",
    "                    self._heap_pop_push(query_vect_ind, dist, self.data_inds_view[i])\n",
    "\n",
    "        # Not Leaf So Explore Children\n",
    "        else:\n",
    "            child1 = 2 * curr_node + 1\n",
    "            child2 = child1 + 1\n",
    "            \n",
    "            child1_center = self.node_center_view[child1]\n",
    "            child2_center = self.node_center_view[child2]\n",
    "\n",
    "            child1_dist = self._euclid(child1_center, query_data)\n",
    "            child2_dist = self._euclid(child2_center, query_data)\n",
    "\n",
    "            if child1_dist < child2_dist:\n",
    "                self._query(query_vect_ind, child1_dist, child1, query_data)\n",
    "                self._query(query_vect_ind, child2_dist, child2, query_data)\n",
    "            else:\n",
    "                self._query(query_vect_ind, child2_dist, child2, query_data)\n",
    "                self._query(query_vect_ind, child1_dist, child1, query_data)\n",
    "                \n",
    "        return 0\n",
    "    \n",
    "    @cython.initializedcheck(False)\n",
    "    @cython.boundscheck(False)\n",
    "    cdef inline double _heap_peek_head(self, size_t level):\n",
    "        return self.heap_view[level, 0]\n",
    "    \n",
    "    \n",
    "    @cython.boundscheck(False)\n",
    "    @cython.wraparound(False) \n",
    "    @cython.initializedcheck(False)\n",
    "    cdef int _heap_pop_push(self, int level, double value, int index):\n",
    "        \n",
    "        # Put New Value At Head And Remove Old Value\n",
    "        self.heap_view[level, 0] = value\n",
    "        self.heap_inds_view[level, 0] = index\n",
    "        \n",
    "        # Update Heap Structure\n",
    "        cdef int left_ind, right_ind\n",
    "        \n",
    "        cdef int i\n",
    "        \n",
    "        cdef double temp_value\n",
    "        cdef int temp_index\n",
    "        \n",
    "        i = 0\n",
    "        while(True):\n",
    "            left_ind = 2 * i + 1\n",
    "            right_ind = left_ind + 1\n",
    "            \n",
    "            # Catch Edge Of Array\n",
    "            if left_ind >= self.heap.shape[1]:\n",
    "                break\n",
    "            elif right_ind >= self.heap.shape[1]:\n",
    "                if self.heap_view[level, left_ind] > self.heap_view[level, i]:\n",
    "                    temp_value = self.heap_view[level, i]\n",
    "                    self.heap_view[level, i] = self.heap_view[level, left_ind]\n",
    "                    self.heap_view[level, left_ind] = temp_value\n",
    "#                     self.heap[level, i] = self.heap_view[level, left_ind]\n",
    "#                     self.heap[level, left_ind] = temp_value\n",
    "                    \n",
    "                    temp_index = self.heap_inds_view[level, i]\n",
    "                    self.heap_inds_view[level, i] = self.heap_inds_view[level, left_ind]\n",
    "                    self.heap_inds_view[level, left_ind] = temp_index\n",
    "#                     self.heap_inds[level, i] = self.heap_inds_view[level, left_ind]\n",
    "#                     self.heap_inds[level, left_ind] = temp_index\n",
    "                    \n",
    "\n",
    "                    \n",
    "                break\n",
    "                \n",
    "            # Determine If We Should Explore Left or Right\n",
    "            \n",
    "            if self.heap_view[level, left_ind] > self.heap_view[level, right_ind]:\n",
    "                if self.heap_view[level, left_ind] > self.heap_view[level, i]:\n",
    "                    temp_value = self.heap_view[level, i]\n",
    "                    self.heap_view[level, i] = self.heap_view[level, left_ind]\n",
    "                    self.heap_view[level, left_ind] = temp_value\n",
    "#                     self.heap[level, i] = self.heap_view[level, left_ind]\n",
    "#                     self.heap[level, left_ind] = temp_value\n",
    "                    \n",
    "                    temp_index = self.heap_inds_view[level, i]\n",
    "                    self.heap_inds_view[level, i] = self.heap_inds_view[level, left_ind]\n",
    "                    self.heap_inds_view[level, left_ind] = temp_index\n",
    "#                     self.heap_inds[level, i] = self.heap_inds_view[level, left_ind]\n",
    "#                     self.heap_inds[level, left_ind] = temp_index\n",
    "                    i = left_ind\n",
    "                else:\n",
    "                    break\n",
    "            \n",
    "            else:\n",
    "                if self.heap_view[level, right_ind] > self.heap_view[level, i]:\n",
    "                    temp_value = self.heap_view[level, i]\n",
    "                    self.heap_view[level, i] = self.heap_view[level, right_ind]\n",
    "                    self.heap_view[level, right_ind] = temp_value\n",
    "                    \n",
    "#                     self.heap[level, i] = self.heap_view[level, right_ind]\n",
    "#                     self.heap[level, right_ind] = temp_value\n",
    "                    \n",
    "                    temp_index = self.heap_inds_view[level, i]\n",
    "                    self.heap_inds_view[level, i] = self.heap_inds_view[level, right_ind]\n",
    "                    self.heap_inds_view[level, right_ind] = temp_index\n",
    "                    \n",
    "                    \n",
    "#                     self.heap_inds[level, i] = self.heap_inds_view[level, right_ind]\n",
    "#                     self.heap_inds[level, right_ind] = temp_index\n",
    "                    i = right_ind\n",
    "                else:\n",
    "                    break\n",
    "        \n",
    "        return 0\n",
    "    \n",
    "    \n",
    "    \n",
    "            "
   ]
  },
  {
   "cell_type": "code",
   "execution_count": 59,
   "metadata": {
    "collapsed": false
   },
   "outputs": [
    {
     "name": "stdout",
     "output_type": "stream",
     "text": [
      "Leaf Count: 2.0\n",
      "Tree Height: 2\n",
      "Node Count: 3\n"
     ]
    }
   ],
   "source": [
    "# Test Data\n",
    "sample_data = np.array([ [5, 5], [8, 7], [-6, -1], [-1, -3], [-4,-8], [4, -2]], dtype=np.float)\n",
    "sample_label= np.array([1, 1, 1, 0, 0, 0])\n",
    "\n",
    "tree = BallTree(sample_data, 3)\n",
    "tree.build_tree()\n"
   ]
  },
  {
   "cell_type": "code",
   "execution_count": 127,
   "metadata": {
    "collapsed": false
   },
   "outputs": [
    {
     "data": {
      "text/plain": [
       "array([[ 7.07106781,  9.8488578 , 10.04987562,  5.09901951, 10.        ,\n",
       "         0.        ]])"
      ]
     },
     "execution_count": 127,
     "metadata": {},
     "output_type": "execute_result"
    }
   ],
   "source": [
    "euclidean(sample_data, np.array([4, -2])[np.newaxis, :])\n",
    "# print(tree.node_radius)\n",
    "# print(tree.node_center)\n",
    "# print(tree.node_data_inds)\n",
    "# print(tree.node_is_leaf)\n",
    "# print(np.asarray(tree.data_inds_view))"
   ]
  },
  {
   "cell_type": "code",
   "execution_count": 6,
   "metadata": {
    "collapsed": false
   },
   "outputs": [
    {
     "name": "stdout",
     "output_type": "stream",
     "text": [
      "261 µs ± 10.6 µs per loop (mean ± std. dev. of 7 runs, 1000 loops each)\n"
     ]
    }
   ],
   "source": [
    "%timeit test = tree.build_tree()"
   ]
  },
  {
   "cell_type": "code",
   "execution_count": 129,
   "metadata": {
    "collapsed": false
   },
   "outputs": [
    {
     "name": "stdout",
     "output_type": "stream",
     "text": [
      "Leaf Count: 100.0\n",
      "Tree Height: 8\n",
      "Node Count: 255\n"
     ]
    }
   ],
   "source": [
    "# Load Data\n",
    "mnist_data = np.load('./sample_data/mnist/mnist_data.npz')\n",
    "train_data = mnist_data['train_data']\n",
    "test_data = mnist_data['test_data']\n",
    "\n",
    "# Subset Data If Desired\n",
    "test_labels = test_data[:1000, 0]\n",
    "test_data = test_data[:1000, 1:].astype(np.float)\n",
    "train_labels = train_data[:1000, 0]\n",
    "train_data = train_data[:1000, 1:].astype(np.float)\n",
    "\n",
    "\n",
    "tree = BallTree(train_data, 10)\n",
    "tree.build_tree()"
   ]
  },
  {
   "cell_type": "code",
   "execution_count": 130,
   "metadata": {
    "collapsed": false
   },
   "outputs": [
    {
     "name": "stdout",
     "output_type": "stream",
     "text": [
      "116 ms ± 3.4 ms per loop (mean ± std. dev. of 7 runs, 10 loops each)\n"
     ]
    }
   ],
   "source": [
    "%timeit test = tree.build_tree()"
   ]
  },
  {
   "cell_type": "code",
   "execution_count": 5,
   "metadata": {
    "collapsed": false
   },
   "outputs": [
    {
     "name": "stdout",
     "output_type": "stream",
     "text": [
      "inf\n",
      "(8, 3)\n",
      "(8, 3)\n"
     ]
    }
   ],
   "source": [
    "tree.query(np.zeros((8, 2)) ,3)\n",
    "print(tree.heap.shape)\n",
    "print(tree.heap_inds.shape)"
   ]
  },
  {
   "cell_type": "code",
   "execution_count": 74,
   "metadata": {
    "collapsed": false
   },
   "outputs": [
    {
     "name": "stdout",
     "output_type": "stream",
     "text": [
      "Leaf Count: 2.0\n",
      "Tree Height: 2\n",
      "Node Count: 3\n",
      "[[6.08276253 4.24264069 1.        ]]\n",
      "[[5 1 0]]\n",
      "[[ 1.        ]\n",
      " [ 4.24264069]\n",
      " [12.08304597]\n",
      " [ 9.21954446]\n",
      " [15.        ]\n",
      " [ 6.08276253]]\n"
     ]
    }
   ],
   "source": [
    "sample_data = np.array([ [5, 5], [8, 7], [-6, -1], [-1, -3], [-4,-8], [4, -2]], dtype=np.float)\n",
    "sample_label= np.array([1, 1, 1, 0, 0, 0])\n",
    "\n",
    "tree = BallTree(sample_data, 3)\n",
    "tree.build_tree()\n",
    "\n",
    "# print(tree.node_center)\n",
    "# print(tree.data_inds)\n",
    "# print(tree.node_data_inds)\n",
    "# print(tree.node_radius)\n",
    "# print(tree.node_is_leaf)\n",
    "\n",
    "\n",
    "\n",
    "tree.query(np.array([5., 4.])[np.newaxis, :] ,3)\n",
    "print(tree.heap)\n",
    "print(tree.heap_inds)\n",
    "print(euclidean(np.array([5, 4])[np.newaxis, :], sample_data))"
   ]
  },
  {
   "cell_type": "code",
   "execution_count": 111,
   "metadata": {
    "collapsed": false
   },
   "outputs": [
    {
     "name": "stdout",
     "output_type": "stream",
     "text": [
      "[[ 5.89726867]\n",
      " [10.38160767]\n",
      " [ 1.41421356]\n",
      " [ 6.08276253]\n",
      " [13.12440475]\n",
      " [ 9.21954446]\n",
      " [ 2.5       ]]\n"
     ]
    }
   ],
   "source": [
    "print(euclidean(np.array([5, 4])[np.newaxis, :], tree.node_center))"
   ]
  },
  {
   "cell_type": "code",
   "execution_count": 161,
   "metadata": {
    "collapsed": false
   },
   "outputs": [
    {
     "name": "stdout",
     "output_type": "stream",
     "text": [
      "54.3 µs ± 2.58 µs per loop (mean ± std. dev. of 7 runs, 10000 loops each)\n"
     ]
    }
   ],
   "source": [
    "%timeit test = tree.query(np.array([5, 4])[np.newaxis, :] ,3)"
   ]
  },
  {
   "cell_type": "code",
   "execution_count": 88,
   "metadata": {
    "collapsed": false
   },
   "outputs": [
    {
     "name": "stdout",
     "output_type": "stream",
     "text": [
      "Leaf Count: 100.0\n",
      "Tree Height: 8\n",
      "Node Count: 255\n"
     ]
    }
   ],
   "source": [
    "# Load Data\n",
    "mnist_data = np.load('./sample_data/mnist/mnist_data.npz')\n",
    "train_data = mnist_data['train_data']\n",
    "test_data = mnist_data['test_data']\n",
    "\n",
    "# Subset Data If Desired\n",
    "test_labels = test_data[:, 0]\n",
    "test_data = test_data[:1000, 50:54].astype(np.float)\n",
    "train_labels = train_data[:, 0]\n",
    "train_data = train_data[:1000, 50:54].astype(np.float)\n",
    "\n",
    "\n",
    "tree = BallTree(train_data, 10)\n",
    "tree.build_tree()\n"
   ]
  },
  {
   "cell_type": "code",
   "execution_count": 91,
   "metadata": {
    "collapsed": false
   },
   "outputs": [
    {
     "name": "stdout",
     "output_type": "stream",
     "text": [
      "650 µs ± 4.19 µs per loop (mean ± std. dev. of 7 runs, 1000 loops each)\n"
     ]
    }
   ],
   "source": [
    "%timeit  test = tree.query(test_data , 3)"
   ]
  },
  {
   "cell_type": "code",
   "execution_count": 86,
   "metadata": {
    "collapsed": false
   },
   "outputs": [
    {
     "name": "stdout",
     "output_type": "stream",
     "text": [
      "6.05 ms ± 45.7 µs per loop (mean ± std. dev. of 7 runs, 100 loops each)\n"
     ]
    }
   ],
   "source": [
    "%timeit test = euclidean(train_data, test_data)"
   ]
  },
  {
   "cell_type": "code",
   "execution_count": 15,
   "metadata": {
    "collapsed": false
   },
   "outputs": [],
   "source": [
    "test = tree.query(test_data , 3)"
   ]
  }
 ],
 "metadata": {
  "kernelspec": {
   "display_name": "knn_env_Python_3",
   "language": "python",
   "name": "knn_env_python_3"
  },
  "language_info": {
   "codemirror_mode": {
    "name": "ipython",
    "version": 3
   },
   "file_extension": ".py",
   "mimetype": "text/x-python",
   "name": "python",
   "nbconvert_exporter": "python",
   "pygments_lexer": "ipython3",
   "version": "3.5.2"
  }
 },
 "nbformat": 4,
 "nbformat_minor": 0
}
