{
 "cells": [
  {
   "cell_type": "code",
   "execution_count": 1,
   "metadata": {
    "collapsed": true
   },
   "outputs": [],
   "source": [
    "%load_ext Cython\n",
    "%load_ext memory_profiler"
   ]
  },
  {
   "cell_type": "code",
   "execution_count": 2,
   "metadata": {
    "collapsed": true
   },
   "outputs": [],
   "source": [
    "# Change Working Directory To Allow knn Imports\n",
    "import os \n",
    "os.chdir('../')"
   ]
  },
  {
   "cell_type": "code",
   "execution_count": 391,
   "metadata": {
    "collapsed": false
   },
   "outputs": [],
   "source": [
    "%%cython\n",
    "import cython\n",
    "import numpy as np\n",
    "cimport numpy as np\n",
    "import math\n",
    "from libcpp cimport bool\n",
    "from knn.distance_metrics import euclidean\n",
    "\n",
    "cdef class BallTree:\n",
    "    \n",
    "    cdef readonly double[:, ::1] data_view\n",
    "    cdef readonly long[::1] data_inds_view\n",
    "    cdef np.ndarray data\n",
    "    cdef np.ndarray data_inds\n",
    "    \n",
    "    cdef public np.ndarray node_data_inds\n",
    "    cdef public np.ndarray node_radius\n",
    "    cdef public np.ndarray node_is_leaf\n",
    "    cdef public np.ndarray node_center\n",
    "    cdef public long[:,::1] node_data_inds_view\n",
    "    cdef public double[::1] node_radius_view\n",
    "    cdef public double[::1] node_is_leaf_view\n",
    "    cdef public double[:,::1] node_center_view\n",
    "    \n",
    "    cdef int leaf_size\n",
    "    cdef int node_count\n",
    "    cdef int tree_height\n",
    "    \n",
    "    def __init__(self, data, leaf_size):\n",
    "        \n",
    "        # Data\n",
    "        self.data = np.asarray(data, dtype=np.float, order='C')\n",
    "        self.data_view = memoryview(self.data)\n",
    "        self.data_inds = np.arange(data.shape[0], dtype=np.int)\n",
    "        self.data_inds_view = memoryview(self.data_inds)\n",
    "        \n",
    "        # Tree Shape\n",
    "        self.leaf_size = leaf_size\n",
    "        leaf_count = self.data.shape[0] / leaf_size\n",
    "        self.tree_height = math.ceil(np.log2(leaf_count)) + 1\n",
    "        self.node_count = int(2 ** self.tree_height) - 1 \n",
    "        \n",
    "        print(\"Leaf Count: \" + str(leaf_count))\n",
    "        print(\"Tree Height: \" + str(self.tree_height))\n",
    "        print(\"Node Count: \" + str(self.node_count))\n",
    "        \n",
    "        # Node Data\n",
    "        self.node_data_inds = np.zeros((self.node_count, 2), dtype=np.int, order='C')\n",
    "        self.node_radius = np.zeros(self.node_count, order='C')\n",
    "        self.node_is_leaf = np.zeros(self.node_count, order='C')\n",
    "        self.node_center = np.zeros((self.node_count, data.shape[1]), order='C')\n",
    "        self.node_data_inds_view = memoryview(self.node_data_inds)\n",
    "        self.node_radius_view = memoryview(self.node_radius)\n",
    "        self.node_is_leaf_view = memoryview(self.node_is_leaf)\n",
    "        self.node_center_view = memoryview(self.node_center)\n",
    "        \n",
    "        \n",
    "    def build_tree(self):\n",
    "        self._build(0, 0, self.data.shape[0]-1)\n",
    "    \n",
    "    \n",
    "    def _build(self, long node_index, long node_data_start, long node_data_end):\n",
    "        #print(\"Node Index: \" + str(node_index))\n",
    "        #print(\"Node Data Start: \" + str(node_data_start))\n",
    "        #print(\"Node Data End: \" + str(node_data_end))\n",
    "        \n",
    "        # Current Node Is A Leaf\n",
    "        if (node_data_end-node_data_start+1) <= self.leaf_size:\n",
    "            #print(\"Leaf Node\")\n",
    "            \n",
    "            self.node_center[node_index] = np.mean(self.data[self.data_inds[node_data_start:node_data_end+1]], axis=0)\n",
    "            #print(\"Node Center:\" + str(np.asarray(self.node_center[node_index,:])))\n",
    "        \n",
    "            self.node_radius[node_index] = np.max(euclidean(self.data[self.data_inds[node_data_start:node_data_end+1]], \n",
    "                                                            self.node_center[node_index,  :][np.newaxis, :]))\n",
    "            #print(\"Radius: \" + str(self.node_radius[node_index]))\n",
    "            \n",
    "            self.node_data_inds[node_index, 0] = node_data_start\n",
    "            self.node_data_inds[node_index, 1] = node_data_end\n",
    "            \n",
    "            self.node_is_leaf[node_index] = True\n",
    "            return None\n",
    "        \n",
    "        # Current Node Is Internal Node\n",
    "        #print(\"Internal Node\")\n",
    "        \n",
    "        # Random Point x0\n",
    "        \n",
    "        rand_index = np.random.choice(node_data_end-node_data_start+1, 1, replace=False)\n",
    "        rand_point = self.data[self.data_inds[rand_index], :]\n",
    "        \n",
    "        #print(rand_point)\n",
    "        \n",
    "        # Find Maximal Point x1\n",
    "        distances = euclidean(self.data[self.data_inds[node_data_start:node_data_end+1]], rand_point)\n",
    "        ind_of_max_dist = np.argmax(distances)\n",
    "        max_vector_1 = self.data[ind_of_max_dist]\n",
    "        #print(max_vector_1)\n",
    "        \n",
    "        \n",
    "        \n",
    "\n",
    "        # Find Maximal Point x2\n",
    "        distances = euclidean(self.data[self.data_inds[node_data_start:node_data_end+1]], max_vector_1[np.newaxis, :])\n",
    "        ind_of_max_dist = np.argmax(distances)\n",
    "        max_vector_2 = self.data[ind_of_max_dist]\n",
    "        #print(max_vector_2)\n",
    "        \n",
    "        \n",
    "        # Project Data\n",
    "        proj_data = np.dot(self.data[self.data_inds[node_data_start:node_data_end+1]], max_vector_1-max_vector_2)\n",
    "        \n",
    "        #print(proj_data)\n",
    "        \n",
    "        # Find Median And Split Data\n",
    "        median = np.partition(proj_data, proj_data.size//2)[proj_data.size//2]\n",
    "        #print(median)\n",
    "        \n",
    "        #print(\"Here?\")\n",
    "        \n",
    "        \n",
    "        # Hoare Partitioning\n",
    "        low = node_data_start\n",
    "        high = node_data_end\n",
    "        pivot = median\n",
    "        \n",
    "        #print(low)\n",
    "        #print(high)\n",
    "        #print(proj_data.shape)\n",
    "        \n",
    "                \n",
    "        self._hoare_partition(pivot, low, high, proj_data)\n",
    "        \n",
    "        #print(proj_data)\n",
    "        #print(self.data_inds)\n",
    "        \n",
    "        \n",
    "        # Create Circle\n",
    "        center = np.mean(self.data[self.data_inds[node_data_start:node_data_end+1]], axis=0)\n",
    "        radius = np.max(euclidean(self.data[self.data_inds[node_data_start:node_data_end+1]], center[np.newaxis, :]))\n",
    "        #print(center)\n",
    "        #print(radius)\n",
    "        #print(self.data[self.data_inds[node_data_start:node_data_end+1]])\n",
    "        \n",
    "        self.node_data_inds[node_index, 0] = node_data_start\n",
    "        self.node_data_inds[node_index, 1] = node_data_end\n",
    "        \n",
    "        self.node_radius[node_index] = radius\n",
    "        self.node_center[node_index] = center\n",
    "        \n",
    "        left_index = 2 * node_index + 1\n",
    "        right_index = left_index + 1\n",
    "        \n",
    "        self.node_is_leaf[node_index] = False\n",
    "        \n",
    "        \n",
    "        self._build(left_index, node_data_start,  node_data_start+ (proj_data.size//2)-1 )\n",
    "        self._build(right_index, node_data_start+(proj_data.size//2),   node_data_end)\n",
    "        \n",
    "        \n",
    "    def _hoare_partition(self, pivot, low, high, projected_data):\n",
    "        \n",
    "        i = low - 1\n",
    "        j = high + 1\n",
    "        i2 = -1\n",
    "        j2 = projected_data.shape[0]\n",
    "        \n",
    "        while True:\n",
    "        \n",
    "            # Scan From Left To Find Value Greater Than Pivot \n",
    "            condition = True\n",
    "            while condition:\n",
    "                i += 1\n",
    "                i2 += 1\n",
    "                condition = projected_data[i2] < pivot\n",
    "            \n",
    "            # Scan From Right To Find Value Less Than Pivot \n",
    "            condition = True\n",
    "            while(condition):\n",
    "                j -= 1\n",
    "                j2 -= 1\n",
    "                condition = projected_data[j2] > pivot\n",
    "\n",
    "            # Time To End Algorithm\n",
    "            if (i >= j):\n",
    "                return j \n",
    "            \n",
    "            # Swap Values\n",
    "            projected_data[i2], projected_data[j2] = projected_data[j2], projected_data[i2]\n",
    "            self.data_inds[i], self.data_inds[j] = self.data_inds[j], self.data_inds[i]\n",
    "            "
   ]
  },
  {
   "cell_type": "code",
   "execution_count": 392,
   "metadata": {
    "collapsed": false
   },
   "outputs": [
    {
     "name": "stdout",
     "output_type": "stream",
     "text": [
      "Leaf Count: 2.0\n",
      "Tree Height: 2\n",
      "Node Count: 3\n"
     ]
    }
   ],
   "source": [
    "# Test Data\n",
    "sample_data = np.array([ [5, 5], [8, 7], [-6, -1], [-1, -3], [-4,-8], [4, -2]], dtype=np.float)\n",
    "sample_label= np.array([1, 1, 1, 0, 0, 0])\n",
    "\n",
    "tree = BallTree(sample_data, 3)\n",
    "tree.build_tree()"
   ]
  },
  {
   "cell_type": "code",
   "execution_count": 386,
   "metadata": {
    "collapsed": false
   },
   "outputs": [
    {
     "name": "stdout",
     "output_type": "stream",
     "text": [
      "[10.13793755  5.58768487  4.01386486]\n",
      "[[ 1.         -0.33333333]\n",
      " [ 5.66666667  3.33333333]\n",
      " [-3.66666667 -4.        ]]\n",
      "[[0 5]\n",
      " [0 2]\n",
      " [3 5]]\n",
      "[0. 1. 1.]\n",
      "[0 1 5 3 4 2]\n"
     ]
    }
   ],
   "source": [
    "\n",
    "print(tree.node_radius)\n",
    "print(tree.node_center)\n",
    "print(tree.node_data_inds)\n",
    "print(tree.node_is_leaf)\n",
    "print(np.asarray(tree.data_inds_view))"
   ]
  },
  {
   "cell_type": "code",
   "execution_count": 327,
   "metadata": {
    "collapsed": false
   },
   "outputs": [
    {
     "name": "stdout",
     "output_type": "stream",
     "text": [
      "1.07 ms ± 11.2 µs per loop (mean ± std. dev. of 7 runs, 1000 loops each)\n"
     ]
    }
   ],
   "source": [
    "%timeit test = tree.build_tree()"
   ]
  },
  {
   "cell_type": "code",
   "execution_count": 389,
   "metadata": {
    "collapsed": false
   },
   "outputs": [
    {
     "name": "stdout",
     "output_type": "stream",
     "text": [
      "Leaf Count: 100.0\n",
      "Tree Height: 8\n",
      "Node Count: 255\n"
     ]
    }
   ],
   "source": [
    "# Load Data\n",
    "mnist_data = np.load('./sample_data/mnist/mnist_data.npz')\n",
    "train_data = mnist_data['train_data']\n",
    "test_data = mnist_data['test_data']\n",
    "\n",
    "# Subset Data If Desired\n",
    "test_labels = test_data[:1, 0]\n",
    "test_data = test_data[:1, 1:].astype(np.float)\n",
    "train_labels = train_data[:10000, 0]\n",
    "train_data = train_data[:10000, 1:].astype(np.float)\n",
    "\n",
    "\n",
    "tree = BallTree(train_data, 100)\n",
    "tree.build_tree()"
   ]
  },
  {
   "cell_type": "code",
   "execution_count": 390,
   "metadata": {
    "collapsed": false
   },
   "outputs": [
    {
     "name": "stdout",
     "output_type": "stream",
     "text": [
      "1.05 s ± 15.2 ms per loop (mean ± std. dev. of 7 runs, 1 loop each)\n"
     ]
    }
   ],
   "source": [
    "%timeit test = tree.build_tree()"
   ]
  },
  {
   "cell_type": "code",
   "execution_count": null,
   "metadata": {
    "collapsed": true
   },
   "outputs": [],
   "source": []
  }
 ],
 "metadata": {
  "kernelspec": {
   "display_name": "knn_env_Python_3",
   "language": "python",
   "name": "knn_env_python_3"
  },
  "language_info": {
   "codemirror_mode": {
    "name": "ipython",
    "version": 3
   },
   "file_extension": ".py",
   "mimetype": "text/x-python",
   "name": "python",
   "nbconvert_exporter": "python",
   "pygments_lexer": "ipython3",
   "version": "3.5.2"
  }
 },
 "nbformat": 4,
 "nbformat_minor": 0
}
